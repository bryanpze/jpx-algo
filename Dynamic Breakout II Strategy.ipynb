{
 "cells": [
  {
   "cell_type": "markdown",
   "id": "23d615ea",
   "metadata": {},
   "source": [
    "# Dynamic Breakout II Strategy\n",
    "\n",
    "Decide look-back period based on rate of change of volatility\n",
    "Make decisions based on highest high and lowest low from look back period (Bollinger bands as indictor)\n",
    "\n",
    "Original dynamic breakout, volatility component changes lookback period\n",
    "New original dynamic breakout includes Bollinger Bands and adjusts number of look back using market volatility\n",
    "\n",
    "Start, set lookback to 20, change in proportion to changes in volatilty (30 day std closing price) (restrict to range of 20 to 60)\n",
    "$$deltavol = \\frac{todayvol-yesterdayvol}{todayvol}$$\n",
    "$$Lookback = round(numdays*(1+deltavol))$$"
   ]
  },
  {
   "cell_type": "code",
   "execution_count": 1,
   "id": "d9329029",
   "metadata": {},
   "outputs": [],
   "source": [
    "import pandas as pd\n",
    "import numpy as np\n",
    "import matplotlib.pyplot as plt\n",
    "pd.set_option('display.max_colwidth', None)\n",
    "from decimal import ROUND_HALF_UP, Decimal\n",
    "from pandas import api\n",
    "from statsmodels.api import OLS\n",
    "import random\n",
    "import statsmodels.api as sm\n",
    "from ta.volatility import BollingerBands\n",
    "from tqdm.auto import tqdm\n",
    "tqdm.pandas()\n"
   ]
  },
  {
   "cell_type": "code",
   "execution_count": 2,
   "id": "39a4d7ef",
   "metadata": {},
   "outputs": [],
   "source": [
    "train_stock_prices = pd.read_csv('ds/train_files/stock_prices.csv')\n",
    "supplemental_stock_prices = pd.read_csv('ds/supplemental_files/stock_prices.csv')\n",
    "data_stock_prices = pd.concat([train_stock_prices,supplemental_stock_prices],ignore_index=True)"
   ]
  },
  {
   "cell_type": "code",
   "execution_count": 3,
   "id": "109b5eaf",
   "metadata": {},
   "outputs": [],
   "source": [
    "def calc_adjusted_close(df):\n",
    "    df = df.sort_values(\"Date\",ascending=False)\n",
    "    df.loc[:,\"cummulative_adjustment_factor\"] = df[\"AdjustmentFactor\"].cumprod()\n",
    "    df.loc[:,\"adjusted_close\"] = (df[\"cummulative_adjustment_factor\"]*df[\"Close\"]).map(lambda x: float(Decimal(str(x)).quantize(Decimal(\"0.1\"),rounding=ROUND_HALF_UP)))\n",
    "    df.loc[:,\"adjusted_open\"] = (df[\"cummulative_adjustment_factor\"]*df[\"Open\"]).map(lambda x: float(Decimal(str(x)).quantize(Decimal(\"0.1\"),rounding=ROUND_HALF_UP)))\n",
    "    df.loc[:,\"adjusted_high\"] = (df[\"cummulative_adjustment_factor\"]*df[\"High\"]).map(lambda x: float(Decimal(str(x)).quantize(Decimal(\"0.1\"),rounding=ROUND_HALF_UP)))\n",
    "    df.loc[:,\"adjusted_low\"] = (df[\"cummulative_adjustment_factor\"]*df[\"Low\"]).map(lambda x: float(Decimal(str(x)).quantize(Decimal(\"0.1\"),rounding=ROUND_HALF_UP)))\n",
    "    df = df.sort_values(\"Date\")\n",
    "    df.loc[df[\"adjusted_close\"]==0,\"adjusted_close\"] = np.nan\n",
    "    df.loc[:,\"adjusted_close\"] = df.loc[:,\"adjusted_close\"].ffill()\n",
    "    return df"
   ]
  },
  {
   "cell_type": "code",
   "execution_count": 4,
   "id": "c1d68540",
   "metadata": {},
   "outputs": [],
   "source": [
    "def calc_adjusted_volume(df):\n",
    "    df.loc[:,\"adjusted_volume\"] = (df[\"Volume\"]/df[\"cummulative_adjustment_factor\"]).map(lambda x: float(Decimal(str(x)).quantize(Decimal(\"0.1\"),rounding=ROUND_HALF_UP)))\n",
    "    df = df.sort_values(\"Date\")\n",
    "    df.loc[df[\"adjusted_volume\"]==0,\"adjusted_volume\"] = np.nan\n",
    "    df.loc[:,\"adjusted_volume\"] = df.loc[:,\"adjusted_volume\"].ffill()\n",
    "    return df"
   ]
  },
  {
   "cell_type": "code",
   "execution_count": 5,
   "id": "24180ec0",
   "metadata": {},
   "outputs": [],
   "source": [
    "\n",
    "def calc_spread_return_sharpe(df: pd.DataFrame, portfolio_size: int = 200, toprank_weight_ratio: float = 2) -> float:\n",
    "    \"\"\"\n",
    "    Args:\n",
    "        df (pd.DataFrame): predicted results\n",
    "        portfolio_size (int): # of equities to buy/sell\n",
    "        toprank_weight_ratio (float): the relative weight of the most highly ranked stock compared to the least.\n",
    "    Returns:\n",
    "        (float): sharpe ratio\n",
    "    \"\"\"\n",
    "    def _calc_spread_return_per_day(df, portfolio_size, toprank_weight_ratio):\n",
    "        \"\"\"\n",
    "        Args:\n",
    "            df (pd.DataFrame): predicted results\n",
    "            portfolio_size (int): # of equities to buy/sell\n",
    "            toprank_weight_ratio (float): the relative weight of the most highly ranked stock compared to the least.\n",
    "        Returns:\n",
    "            (float): spread return\n",
    "        \"\"\"\n",
    "        assert df['Rank'].min() == 0\n",
    "        assert df['Rank'].max() == len(df['Rank']) - 1\n",
    "        weights = np.linspace(start=toprank_weight_ratio, stop=1, num=portfolio_size)\n",
    "        #Target is the rate of change \n",
    "        purchase = (df.sort_values(by='Rank')['Target'][:portfolio_size] * weights).sum() / weights.mean()\n",
    "        short = (df.sort_values(by='Rank', ascending=False)['Target'][:portfolio_size] * weights).sum() / weights.mean()\n",
    "        return purchase - short\n",
    "\n",
    "    buf = df.groupby('Date').apply(_calc_spread_return_per_day, portfolio_size, toprank_weight_ratio)\n",
    "    sharpe_ratio = buf.mean() / buf.std()\n",
    "    print(buf.mean())\n",
    "    print(buf.std())\n",
    "    buf.plot()\n",
    "    return sharpe_ratio"
   ]
  },
  {
   "cell_type": "code",
   "execution_count": 6,
   "id": "ec49d422",
   "metadata": {},
   "outputs": [],
   "source": [
    "def create_bands(df):\n",
    "    df[\"upper_band\"] = df[\"moving_average\"] + (2*df[\"moving_std\"])\n",
    "    df[\"lower_band\"] = df[\"moving_average\"] - (2*df[\"moving_std\"])\n",
    "    df[\"difference_upper\"] = df['adjusted_close']-df[\"upper_band\"]\n",
    "    df[\"difference_lower\"] = df['lower_band'] - df[\"adjusted_close\"]\n",
    "    return df"
   ]
  },
  {
   "cell_type": "code",
   "execution_count": 7,
   "id": "24aaa48b",
   "metadata": {},
   "outputs": [],
   "source": [
    "def create_deciles(df):\n",
    "    df = df.sort_values(\"difference_upper\",ascending=False)\n",
    "    to_buy_index = df.index[:200]\n",
    "    df = df.sort_values(\"difference_lower\",ascending=False)\n",
    "    to_short_index = df.index[:200]\n",
    "    df.loc[to_buy_index,\"Quarter\"] = 0\n",
    "    df.loc[to_buy_index,\"Abs\"] = df.loc[to_buy_index,\"difference_upper\"]\n",
    "    df.loc[to_short_index,\"Quarter\"] = 2\n",
    "    df.loc[to_short_index,\"Abs\"] = df.loc[to_short_index,\"adjusted_close\"]-df.loc[to_short_index,\"lower_band\"]\n",
    "    df[\"Quarter\"]=df[\"Quarter\"].fillna(1)\n",
    "    df = df.sort_values([\"Quarter\",\"Abs\"],ascending=[True,False])\n",
    "    return df"
   ]
  },
  {
   "cell_type": "code",
   "execution_count": 8,
   "id": "8767784c",
   "metadata": {},
   "outputs": [],
   "source": [
    "def calc_rolling(df,t):\n",
    "    for y in df[\"num_days\"].unique():\n",
    "        y=y.astype('int')\n",
    "        if(y>0):\n",
    "            if(t=='mean'):\n",
    "                df[y] = df[\"adjusted_close\"].rolling(y).mean()\n",
    "            else:\n",
    "                df[y] = df[\"adjusted_close\"].rolling(y).std()\n",
    "    return df"
   ]
  },
  {
   "cell_type": "code",
   "execution_count": 9,
   "id": "ac8a338a",
   "metadata": {},
   "outputs": [],
   "source": [
    "def create_features(df):\n",
    "    df = df.copy()\n",
    "    df[\"Date\"] = pd.to_datetime(df[\"Date\"])\n",
    "    df = df.drop([\"RowId\"],axis=1)\n",
    "    df = df[df[\"Date\"]!=\"2020-10-01\"]\n",
    "    df = df.groupby(\"SecuritiesCode\").apply(calc_adjusted_close).reset_index(drop=True).sort_values([\"Date\",\"SecuritiesCode\"]).reset_index(drop=True)\n",
    "    df = df.groupby(\"SecuritiesCode\").apply(calc_adjusted_volume).reset_index(drop=True).sort_values([\"Date\",\"SecuritiesCode\"]).reset_index(drop=True)\n",
    "    df[\"today_vol\"] = df.groupby(\"SecuritiesCode\")[\"adjusted_close\"].rolling(30).std().reset_index(0,drop=True)\n",
    "    df[\"yesterday_vol\"] = df.groupby(\"SecuritiesCode\")[\"adjusted_close\"].apply(lambda x: x.shift(1).rolling(30).std())\n",
    "    df[\"delta_vol\"] = df.groupby(\"SecuritiesCode\").apply(lambda x: (x[\"today_vol\"]-x[\"yesterday_vol\"])/x[\"today_vol\"]).reset_index(0,drop=True)\n",
    "    df[\"num_days\"] = df.groupby(\"SecuritiesCode\").apply(lambda x: round(20*(1 + x[\"delta_vol\"]))).reset_index(0,drop=True)\n",
    "    df.loc[df[\"num_days\"]>60,\"num_days\"] = 60\n",
    "    df.loc[df[\"num_days\"]<20,\"num_days\"] = 20\n",
    "    df=df.groupby(\"SecuritiesCode\").apply(lambda x:calc_rolling(x,'mean'))\n",
    "    df[np.nan]=np.nan\n",
    "    df['moving_average']=df.apply(lambda x: x[x['num_days']],axis=1)\n",
    "    df =df.groupby(\"SecuritiesCode\").apply(lambda x: calc_rolling(x,'std'))\n",
    "    df['moving_std']=df.apply(lambda x: x[x['num_days']],axis=1)\n",
    "    df = df.drop(labels=df['num_days'].unique(),axis=1)\n",
    "    df = df.groupby(\"SecuritiesCode\").apply(create_bands)\n",
    "    df = df.groupby(\"Date\").apply(create_deciles).reset_index(0,drop=True)\n",
    "    df=df.dropna(subset=['moving_average'])\n",
    "    df[\"Rank\"] = df.groupby([\"Date\"])[\"SecuritiesCode\"].transform(lambda x: np.linspace(0,x.count()-1,x.count()))\n",
    "    return df"
   ]
  },
  {
   "cell_type": "code",
   "execution_count": 11,
   "id": "7271ae71",
   "metadata": {},
   "outputs": [
    {
     "ename": "KeyboardInterrupt",
     "evalue": "",
     "output_type": "error",
     "traceback": [
      "\u001b[1;31m---------------------------------------------------------------------------\u001b[0m",
      "\u001b[1;31mKeyboardInterrupt\u001b[0m                         Traceback (most recent call last)",
      "\u001b[1;32m<ipython-input-11-814a78b2d448>\u001b[0m in \u001b[0;36m<module>\u001b[1;34m\u001b[0m\n\u001b[1;32m----> 1\u001b[1;33m \u001b[0mdf\u001b[0m \u001b[1;33m=\u001b[0m \u001b[0mcreate_features\u001b[0m\u001b[1;33m(\u001b[0m\u001b[0mtrain_stock_prices\u001b[0m\u001b[1;33m)\u001b[0m\u001b[1;33m\u001b[0m\u001b[1;33m\u001b[0m\u001b[0m\n\u001b[0m",
      "\u001b[1;32m<ipython-input-9-c0fa65a6c563>\u001b[0m in \u001b[0;36mcreate_features\u001b[1;34m(df)\u001b[0m\n\u001b[0;32m     16\u001b[0m     \u001b[0mdf\u001b[0m\u001b[1;33m[\u001b[0m\u001b[1;34m'moving_average'\u001b[0m\u001b[1;33m]\u001b[0m\u001b[1;33m=\u001b[0m\u001b[0mdf\u001b[0m\u001b[1;33m.\u001b[0m\u001b[0mapply\u001b[0m\u001b[1;33m(\u001b[0m\u001b[1;32mlambda\u001b[0m \u001b[0mx\u001b[0m\u001b[1;33m:\u001b[0m \u001b[0mx\u001b[0m\u001b[1;33m[\u001b[0m\u001b[0mx\u001b[0m\u001b[1;33m[\u001b[0m\u001b[1;34m'num_days'\u001b[0m\u001b[1;33m]\u001b[0m\u001b[1;33m]\u001b[0m\u001b[1;33m,\u001b[0m\u001b[0maxis\u001b[0m\u001b[1;33m=\u001b[0m\u001b[1;36m1\u001b[0m\u001b[1;33m)\u001b[0m\u001b[1;33m\u001b[0m\u001b[1;33m\u001b[0m\u001b[0m\n\u001b[0;32m     17\u001b[0m     \u001b[0mdf\u001b[0m \u001b[1;33m=\u001b[0m\u001b[0mdf\u001b[0m\u001b[1;33m.\u001b[0m\u001b[0mgroupby\u001b[0m\u001b[1;33m(\u001b[0m\u001b[1;34m\"SecuritiesCode\"\u001b[0m\u001b[1;33m)\u001b[0m\u001b[1;33m.\u001b[0m\u001b[0mapply\u001b[0m\u001b[1;33m(\u001b[0m\u001b[1;32mlambda\u001b[0m \u001b[0mx\u001b[0m\u001b[1;33m:\u001b[0m \u001b[0mcalc_rolling\u001b[0m\u001b[1;33m(\u001b[0m\u001b[0mx\u001b[0m\u001b[1;33m,\u001b[0m\u001b[1;34m'std'\u001b[0m\u001b[1;33m)\u001b[0m\u001b[1;33m)\u001b[0m\u001b[1;33m\u001b[0m\u001b[1;33m\u001b[0m\u001b[0m\n\u001b[1;32m---> 18\u001b[1;33m     \u001b[0mdf\u001b[0m\u001b[1;33m[\u001b[0m\u001b[1;34m'moving_std'\u001b[0m\u001b[1;33m]\u001b[0m\u001b[1;33m=\u001b[0m\u001b[0mdf\u001b[0m\u001b[1;33m.\u001b[0m\u001b[0mapply\u001b[0m\u001b[1;33m(\u001b[0m\u001b[1;32mlambda\u001b[0m \u001b[0mx\u001b[0m\u001b[1;33m:\u001b[0m \u001b[0mx\u001b[0m\u001b[1;33m[\u001b[0m\u001b[0mx\u001b[0m\u001b[1;33m[\u001b[0m\u001b[1;34m'num_days'\u001b[0m\u001b[1;33m]\u001b[0m\u001b[1;33m]\u001b[0m\u001b[1;33m,\u001b[0m\u001b[0maxis\u001b[0m\u001b[1;33m=\u001b[0m\u001b[1;36m1\u001b[0m\u001b[1;33m)\u001b[0m\u001b[1;33m\u001b[0m\u001b[1;33m\u001b[0m\u001b[0m\n\u001b[0m\u001b[0;32m     19\u001b[0m     \u001b[0mdf\u001b[0m \u001b[1;33m=\u001b[0m \u001b[0mdf\u001b[0m\u001b[1;33m.\u001b[0m\u001b[0mdrop\u001b[0m\u001b[1;33m(\u001b[0m\u001b[0mlabels\u001b[0m\u001b[1;33m=\u001b[0m\u001b[0mdf\u001b[0m\u001b[1;33m[\u001b[0m\u001b[1;34m'num_days'\u001b[0m\u001b[1;33m]\u001b[0m\u001b[1;33m.\u001b[0m\u001b[0munique\u001b[0m\u001b[1;33m(\u001b[0m\u001b[1;33m)\u001b[0m\u001b[1;33m,\u001b[0m\u001b[0maxis\u001b[0m\u001b[1;33m=\u001b[0m\u001b[1;36m1\u001b[0m\u001b[1;33m)\u001b[0m\u001b[1;33m\u001b[0m\u001b[1;33m\u001b[0m\u001b[0m\n\u001b[0;32m     20\u001b[0m     \u001b[0mdf\u001b[0m \u001b[1;33m=\u001b[0m \u001b[0mdf\u001b[0m\u001b[1;33m.\u001b[0m\u001b[0mgroupby\u001b[0m\u001b[1;33m(\u001b[0m\u001b[1;34m\"SecuritiesCode\"\u001b[0m\u001b[1;33m)\u001b[0m\u001b[1;33m.\u001b[0m\u001b[0mapply\u001b[0m\u001b[1;33m(\u001b[0m\u001b[0mcreate_bands\u001b[0m\u001b[1;33m)\u001b[0m\u001b[1;33m\u001b[0m\u001b[1;33m\u001b[0m\u001b[0m\n",
      "\u001b[1;32mD:\\conda\\lib\\site-packages\\pandas\\core\\frame.py\u001b[0m in \u001b[0;36m__setitem__\u001b[1;34m(self, key, value)\u001b[0m\n\u001b[0;32m   3145\u001b[0m         \u001b[1;32mreturn\u001b[0m \u001b[0mself\u001b[0m\u001b[1;33m.\u001b[0m\u001b[0m_get_value\u001b[0m\u001b[1;33m(\u001b[0m\u001b[0mindex\u001b[0m\u001b[1;33m,\u001b[0m \u001b[0mcol\u001b[0m\u001b[1;33m,\u001b[0m \u001b[0mtakeable\u001b[0m\u001b[1;33m=\u001b[0m\u001b[1;32mTrue\u001b[0m\u001b[1;33m)\u001b[0m\u001b[1;33m\u001b[0m\u001b[1;33m\u001b[0m\u001b[0m\n\u001b[0;32m   3146\u001b[0m \u001b[1;33m\u001b[0m\u001b[0m\n\u001b[1;32m-> 3147\u001b[1;33m     \u001b[1;32mdef\u001b[0m \u001b[0m__setitem__\u001b[0m\u001b[1;33m(\u001b[0m\u001b[0mself\u001b[0m\u001b[1;33m,\u001b[0m \u001b[0mkey\u001b[0m\u001b[1;33m,\u001b[0m \u001b[0mvalue\u001b[0m\u001b[1;33m)\u001b[0m\u001b[1;33m:\u001b[0m\u001b[1;33m\u001b[0m\u001b[1;33m\u001b[0m\u001b[0m\n\u001b[0m\u001b[0;32m   3148\u001b[0m         \u001b[0mkey\u001b[0m \u001b[1;33m=\u001b[0m \u001b[0mcom\u001b[0m\u001b[1;33m.\u001b[0m\u001b[0mapply_if_callable\u001b[0m\u001b[1;33m(\u001b[0m\u001b[0mkey\u001b[0m\u001b[1;33m,\u001b[0m \u001b[0mself\u001b[0m\u001b[1;33m)\u001b[0m\u001b[1;33m\u001b[0m\u001b[1;33m\u001b[0m\u001b[0m\n\u001b[0;32m   3149\u001b[0m \u001b[1;33m\u001b[0m\u001b[0m\n",
      "\u001b[1;31mKeyboardInterrupt\u001b[0m: "
     ]
    }
   ],
   "source": [
    "df = create_features(train_stock_prices)"
   ]
  },
  {
   "cell_type": "code",
   "execution_count": null,
   "id": "d8f9546d",
   "metadata": {},
   "outputs": [],
   "source": [
    "calc_spread_return_sharpe(df)"
   ]
  },
  {
   "cell_type": "code",
   "execution_count": null,
   "id": "2ad10040",
   "metadata": {},
   "outputs": [],
   "source": [
    "tmp[\"adjusted_close\"].rolling(28).std()"
   ]
  },
  {
   "cell_type": "code",
   "execution_count": null,
   "id": "4a2cc6ef",
   "metadata": {},
   "outputs": [],
   "source": [
    "test"
   ]
  },
  {
   "cell_type": "code",
   "execution_count": null,
   "id": "6a4a957e",
   "metadata": {},
   "outputs": [],
   "source": [
    "test = create_features(train_stock_prices)\n",
    "calc_spread_return_sharpe(test)"
   ]
  },
  {
   "cell_type": "code",
   "execution_count": null,
   "id": "0002da9a",
   "metadata": {},
   "outputs": [],
   "source": [
    "#This is factor 2\n",
    "test = create_features(train_stock_prices)\n",
    "calc_spread_return_sharpe(test)"
   ]
  },
  {
   "cell_type": "code",
   "execution_count": null,
   "id": "8ae99380",
   "metadata": {},
   "outputs": [],
   "source": [
    "#41\n",
    "test = create_features(train_stock_prices)\n",
    "calc_spread_return_sharpe(test)"
   ]
  }
 ],
 "metadata": {
  "kernelspec": {
   "display_name": "Python 3",
   "language": "python",
   "name": "python3"
  },
  "language_info": {
   "codemirror_mode": {
    "name": "ipython",
    "version": 3
   },
   "file_extension": ".py",
   "mimetype": "text/x-python",
   "name": "python",
   "nbconvert_exporter": "python",
   "pygments_lexer": "ipython3",
   "version": "3.8.8"
  }
 },
 "nbformat": 4,
 "nbformat_minor": 5
}
