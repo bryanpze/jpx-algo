{
 "cells": [
  {
   "cell_type": "code",
   "execution_count": 1,
   "metadata": {
    "_cell_guid": "b1076dfc-b9ad-4769-8c92-a6c4dae69d19",
    "_uuid": "8f2839f25d086af736a60e9eeb907d3b93b6e0e5",
    "execution": {
     "iopub.execute_input": "2022-05-10T11:15:27.341491Z",
     "iopub.status.busy": "2022-05-10T11:15:27.341101Z",
     "iopub.status.idle": "2022-05-10T11:15:28.737927Z",
     "shell.execute_reply": "2022-05-10T11:15:28.736636Z",
     "shell.execute_reply.started": "2022-05-10T11:15:27.341384Z"
    }
   },
   "outputs": [],
   "source": [
    "import numpy as np \n",
    "import pandas as pd \n",
    "from math import ceil\n",
    "\n",
    "from tqdm import tqdm\n",
    "from datetime import datetime, timedelta\n",
    "import os\n",
    "\n",
    "import matplotlib.pyplot as plt\n",
    "import seaborn as sns"
   ]
  },
  {
   "cell_type": "code",
   "execution_count": 13,
   "metadata": {
    "execution": {
     "iopub.execute_input": "2022-05-10T11:23:48.496204Z",
     "iopub.status.busy": "2022-05-10T11:23:48.495683Z",
     "iopub.status.idle": "2022-05-10T11:23:48.506790Z",
     "shell.execute_reply": "2022-05-10T11:23:48.505459Z",
     "shell.execute_reply.started": "2022-05-10T11:23:48.496162Z"
    }
   },
   "outputs": [],
   "source": [
    "data.shape"
   ]
  },
  {
   "cell_type": "code",
   "execution_count": 16,
   "metadata": {
    "execution": {
     "iopub.execute_input": "2022-05-10T11:51:28.030810Z",
     "iopub.status.busy": "2022-05-10T11:51:28.030252Z",
     "iopub.status.idle": "2022-05-10T11:51:33.879113Z",
     "shell.execute_reply": "2022-05-10T11:51:33.877637Z",
     "shell.execute_reply.started": "2022-05-10T11:51:28.030766Z"
    }
   },
   "outputs": [],
   "source": [
    "data = pd.read_csv(\"../input/jpx-tokyo-stock-exchange-prediction/train_files/stock_prices.csv\")\n",
    "data[\"Date\"] = pd.to_datetime(data[\"Date\"])\n",
    "data.head()"
   ]
  },
  {
   "cell_type": "code",
   "execution_count": 25,
   "metadata": {
    "execution": {
     "iopub.execute_input": "2022-05-10T11:53:57.843132Z",
     "iopub.status.busy": "2022-05-10T11:53:57.842827Z",
     "iopub.status.idle": "2022-05-10T11:53:57.884223Z",
     "shell.execute_reply": "2022-05-10T11:53:57.882969Z",
     "shell.execute_reply.started": "2022-05-10T11:53:57.843100Z"
    }
   },
   "outputs": [],
   "source": [
    "data[(data['Target'].notnull()) & (data['Close'].isnull())]"
   ]
  },
  {
   "cell_type": "code",
   "execution_count": 20,
   "metadata": {
    "execution": {
     "iopub.execute_input": "2022-05-10T11:52:37.827254Z",
     "iopub.status.busy": "2022-05-10T11:52:37.826952Z",
     "iopub.status.idle": "2022-05-10T11:52:38.139931Z",
     "shell.execute_reply": "2022-05-10T11:52:38.138857Z",
     "shell.execute_reply.started": "2022-05-10T11:52:37.827219Z"
    }
   },
   "outputs": [],
   "source": [
    "data.isnull().sum()"
   ]
  },
  {
   "cell_type": "code",
   "execution_count": 4,
   "metadata": {
    "execution": {
     "iopub.execute_input": "2022-05-10T11:15:36.799926Z",
     "iopub.status.busy": "2022-05-10T11:15:36.798965Z",
     "iopub.status.idle": "2022-05-10T11:15:38.716764Z",
     "shell.execute_reply": "2022-05-10T11:15:38.715344Z",
     "shell.execute_reply.started": "2022-05-10T11:15:36.799867Z"
    }
   },
   "outputs": [],
   "source": [
    "data = data[data['Target'].notnull()].reset_index(drop = True)\n",
    "\n",
    "col_names = ['SecuritiesCode','Open_R','High_R','Low_R','Close_R']\n",
    "rep_data = data.groupby('SecuritiesCode').mean()[['Open','High','Low','Close']].reset_index()\n",
    "rep_data.columns = col_names\n",
    "\n",
    "data = pd.merge(data, rep_data, on = 'SecuritiesCode', how = 'left')\n",
    "data['Open'] = np.where(data['Open'].notnull(), data['Open'], data['Open_R'])\n",
    "data['High'] = np.where(data['High'].notnull(), data['High'], data['High_R'])\n",
    "data['Low'] = np.where(data['Low'].notnull(), data['Low'], data['Low_R'])\n",
    "data['Close'] = np.where(data['Close'].notnull(), data['Close'], data['Close_R'])\n",
    "\n",
    "data.drop(['Open_R','High_R','Low_R','Close_R'], axis = 1, inplace = True)\n",
    "\n",
    "data.isnull().sum()"
   ]
  },
  {
   "cell_type": "code",
   "execution_count": 5,
   "metadata": {
    "execution": {
     "iopub.execute_input": "2022-05-10T11:15:38.719002Z",
     "iopub.status.busy": "2022-05-10T11:15:38.718567Z",
     "iopub.status.idle": "2022-05-10T11:15:38.789842Z",
     "shell.execute_reply": "2022-05-10T11:15:38.788699Z",
     "shell.execute_reply.started": "2022-05-10T11:15:38.718959Z"
    }
   },
   "outputs": [],
   "source": [
    "data['Date'].describe()"
   ]
  },
  {
   "cell_type": "code",
   "execution_count": 27,
   "metadata": {
    "execution": {
     "iopub.execute_input": "2022-05-10T11:56:37.804974Z",
     "iopub.status.busy": "2022-05-10T11:56:37.804671Z",
     "iopub.status.idle": "2022-05-10T11:57:07.000985Z",
     "shell.execute_reply": "2022-05-10T11:57:06.999869Z",
     "shell.execute_reply.started": "2022-05-10T11:56:37.804943Z"
    }
   },
   "outputs": [],
   "source": [
    "tmp = data.copy()\n",
    "tmp['yymm'] = tmp['Date'].apply(lambda x: str(x)[:4] + str(x)[5:7])\n",
    "tmp['yymm'].value_counts().plot(kind = 'bar', figsize = (10,6))"
   ]
  },
  {
   "cell_type": "code",
   "execution_count": 7,
   "metadata": {
    "execution": {
     "iopub.execute_input": "2022-05-10T11:16:09.153385Z",
     "iopub.status.busy": "2022-05-10T11:16:09.152519Z",
     "iopub.status.idle": "2022-05-10T11:16:09.175209Z",
     "shell.execute_reply": "2022-05-10T11:16:09.174120Z",
     "shell.execute_reply.started": "2022-05-10T11:16:09.153316Z"
    }
   },
   "outputs": [],
   "source": [
    "## 총 거래액 생성\n",
    "data['amount'] = data['Close'] * data['Volume'] # amount"
   ]
  },
  {
   "cell_type": "code",
   "execution_count": 8,
   "metadata": {
    "execution": {
     "iopub.execute_input": "2022-05-10T11:16:09.177670Z",
     "iopub.status.busy": "2022-05-10T11:16:09.176692Z",
     "iopub.status.idle": "2022-05-10T11:16:09.231113Z",
     "shell.execute_reply": "2022-05-10T11:16:09.230338Z",
     "shell.execute_reply.started": "2022-05-10T11:16:09.177586Z"
    }
   },
   "outputs": [],
   "source": [
    "def week_of_month(date):\n",
    "    day = date.day\n",
    "    wom = int(np.ceil(day / 7.0))\n",
    "    \n",
    "    return wom\n",
    "\n",
    "def day_feature(data):    \n",
    "    day_df = data.groupby('Date').sum()[['amount','Close']].reset_index()\n",
    "    day_df['diff'] = day_df['Close'].diff()\n",
    "    day_df['shift1'] = day_df['Close'].shift(1)\n",
    "\n",
    "    day_df['day_roc'] = (day_df['diff'] / day_df['shift1']) * 100\n",
    "    day_df.rename({'amount':'day_amount'}, axis=1, inplace=True)\n",
    "    day_df = day_df[['Date','day_amount','day_roc']]\n",
    "\n",
    "    data = pd.merge(data, day_df, on = 'Date', how='left')\n",
    "    \n",
    "    return data\n",
    "\n",
    "stock_list = pd.read_csv(\"../input/jpx-tokyo-stock-exchange-prediction/stock_list.csv\")\n",
    "stock_list = stock_list[['SecuritiesCode','Section/Products','NewMarketSegment','33SectorName','17SectorName']]\n",
    "\n",
    "def day_list_feature(data):\n",
    "    data = pd.merge(data, stock_list, on = 'SecuritiesCode', how = 'left')\n",
    "    segs = ['Section/Products','NewMarketSegment','33SectorName','17SectorName']\n",
    "    \n",
    "    for seg in segs:\n",
    "        day_df = data.groupby(['Date',seg]).sum()[['amount','Close']].reset_index()\n",
    "        \n",
    "        tmp = pd.DataFrame()\n",
    "        for unique_seg in data[seg].unique():\n",
    "            day_unique_df = day_df[day_df[seg] == unique_seg].reset_index(drop = True)\n",
    "\n",
    "            day_unique_df['diff'] = day_unique_df['Close'].diff()\n",
    "            day_unique_df['shift1'] = day_unique_df['Close'].shift(1)\n",
    "\n",
    "            day_unique_df['day_roc'] = (day_unique_df['diff'] / day_unique_df['shift1']) * 100\n",
    "            \n",
    "            tmp = pd.concat([tmp, day_unique_df])\n",
    "            \n",
    "        tmp.rename({'amount': seg + '_amount', 'day_roc': seg + '_roc'}, axis=1, inplace=True)\n",
    "        tmp.drop(['diff','shift1','Close'], axis=1, inplace=True)\n",
    "        data = pd.merge(data, tmp, on = ['Date',seg], how='left')\n",
    "        \n",
    "#     data.drop(['Section/Products','NewMarketSegment','33SectorName','17SectorName'], axis=1, inplace=True)\n",
    "    \n",
    "    return data"
   ]
  },
  {
   "cell_type": "code",
   "execution_count": 9,
   "metadata": {
    "execution": {
     "iopub.execute_input": "2022-05-10T11:16:09.233570Z",
     "iopub.status.busy": "2022-05-10T11:16:09.232673Z",
     "iopub.status.idle": "2022-05-10T11:16:59.988059Z",
     "shell.execute_reply": "2022-05-10T11:16:59.986972Z",
     "shell.execute_reply.started": "2022-05-10T11:16:09.233476Z"
    }
   },
   "outputs": [],
   "source": [
    "print(data.shape)\n",
    "## day 관련 변수\n",
    "data['weekday'] = data[\"Date\"].apply(lambda x: x.weekday())\n",
    "data['weeknum'] = data[\"Date\"].apply(lambda x: week_of_month(x))\n",
    "\n",
    "data = day_feature(data)\n",
    "data = day_list_feature(data)\n",
    "print(data.shape)\n",
    "# day_to_sec = 24 * 60 * 60\n",
    "# month_to_sec = 20 * day_to_sec\n",
    "# timestamp_s = data[\"Date\"].apply(datetime.timestamp)\n",
    "# timestamp_freq = round((timestamp_s / month_to_sec).diff(20)[20], 1)\n",
    "\n",
    "# data['dayofmonth_freq_sin'] = np.sin((timestamp_s / month_to_sec) * ((2 * np.pi) / timestamp_freq))\n",
    "# data['dayofmonth_freq_cos'] = np.cos((timestamp_s / month_to_sec) * ((2 * np.pi) / timestamp_freq))"
   ]
  },
  {
   "cell_type": "code",
   "execution_count": 10,
   "metadata": {
    "execution": {
     "iopub.execute_input": "2022-05-10T11:16:59.991674Z",
     "iopub.status.busy": "2022-05-10T11:16:59.991104Z",
     "iopub.status.idle": "2022-05-10T11:17:00.028084Z",
     "shell.execute_reply": "2022-05-10T11:17:00.027079Z",
     "shell.execute_reply.started": "2022-05-10T11:16:59.991623Z"
    }
   },
   "outputs": [],
   "source": [
    "def Stochastic(df, n=14, m=5, t=5):    \n",
    "    # n일 중 최고가\n",
    "    ndays_high = df['High'].rolling(window = n, min_periods=1).max()\n",
    "    # n일 중 최저가\n",
    "    ndays_low = df['Low'].rolling(window = n, min_periods=1).max()\n",
    "    \n",
    "    # Fast %K 계산\n",
    "    fast_k = ((df['Close'] - ndays_low) / (ndays_high - ndays_low)) * 100\n",
    "    # Fast %D (Slow %K) 계산\n",
    "    slow_k = fast_k.ewm(span=m).mean()\n",
    "    # Slow %d 계산\n",
    "    slow_d = slow_k.ewm(span=t).mean()\n",
    "    \n",
    "    # 값 추가\n",
    "    df['fast_k'] = fast_k\n",
    "    df['fast_d'] = slow_k\n",
    "    df['slow_d'] = slow_d\n",
    "    \n",
    "    return df\n",
    "\n",
    "def SMA(data, period=30, column = 'Close'):\n",
    "    return data[column].rolling(window=period).mean()\n",
    "\n",
    "def RSI(data, period = 14, column = 'Close'):\n",
    "    delta = data[column].diff(1)\n",
    "    delta = delta.dropna()\n",
    "    \n",
    "    up = delta.copy()\n",
    "    down = delta.copy()\n",
    "    \n",
    "    up[up < 0] = 0\n",
    "    down[down > 0] = 0\n",
    "    \n",
    "    data['up'] = up\n",
    "    data['down'] = down\n",
    "    \n",
    "    AVG_Gain = SMA(data, period, column = 'up')\n",
    "    AVG_Loss = abs(SMA(data, period, column = 'down'))\n",
    "    \n",
    "    RS = AVG_Gain / AVG_Loss\n",
    "    RSI = 100.0 - (100.0/(1.0 + RS))\n",
    "    \n",
    "    data['RSI'] = RSI\n",
    "    \n",
    "    return data\n",
    "\n",
    "def OBV(data):\n",
    "    OBV = [0]\n",
    "    for i in tqdm(range(1,len(data))):\n",
    "        if data['Close'][i] > data['Close'][i-1]:\n",
    "            OBV.append(OBV + data['Volume'][i])\n",
    "        elif tmp_stock['Close'][i] < data['Close'][i-1]:\n",
    "            OBV.append(OBV - data['Volume'][i])\n",
    "        else:\n",
    "            OBV.append(OBV[-1])\n",
    "    data['OBV'] = OBV\n",
    "    data['OBV_EMA'] = data['OBV'].ewm(com = 20).mean()\n",
    "    \n",
    "    return data\n",
    "\n",
    "def MFI(data):\n",
    "    # 10일(거래일 기준으로 2주 동안) 기준의 현금흐름지표를 구하는 코드\n",
    "    data['avg_price'] = (data['High']+data['Low']+data['Close'])/3\n",
    "    data['PMF'] = 0\n",
    "    data['NMF'] = 0\n",
    "    \n",
    "    for i in range(len(data['Close'])-1):\n",
    "        # 당일의 중심가격이 전일의 중심가격보다 크면 긍정적 현금흐름\n",
    "        if data['avg_price'].values[i] < data['avg_price'].values[i+1]:\n",
    "            data['PMF'].values[i+1] = data['avg_price'].values[i+1]*data['Volume'].values[i+1]\n",
    "            data['NMF'].values[i+1] = 0\n",
    "        # 당일의 중심가격이 전일의 중심가격보다 작거나 같으면 부정적 현금흐름\n",
    "        else:\n",
    "            data['NMF'].values[i+1] = data['avg_price'].values[i+1]*data['Volume'].values[i+1]\n",
    "            data['PMF'].values[i+1] = 0\n",
    "\n",
    "    data['MFR'] = data['PMF'].rolling(window=10).sum()/data['NMF'].rolling(window=10).sum()\n",
    "    data['MFI10'] = 100 - 100/(1+data['MFR'])\n",
    "    \n",
    "    return data\n",
    "\n",
    "def CCI(data):\n",
    "    data['TP'] = (data['High'] + data['Low'] + data['Close']) / 3\n",
    "    data['SMA'] = data['TP'].rolling(window=20).mean()\n",
    "    data['MAD'] = data['TP'].rolling(window=20).apply(lambda x: pd.Series(x).mad())\n",
    "    data['CCI'] = (data['TP'] - data['SMA']) / (0.015 * data['MAD'])\n",
    "    \n",
    "    data.drop(['TP','SMA','MAD'], axis=1, inplace=True)\n",
    "    \n",
    "    return data\n",
    "\n",
    "def MACD(data, m_NumFast=12, m_NumSlow=26, m_NumSignal=9):\n",
    "    data['EMAFast'] = data['Close'].ewm(span = m_NumFast, min_periods = m_NumFast - 1).mean()\n",
    "    data['EMASlow'] = data['Close'].ewm(span = m_NumSlow, min_periods = m_NumSlow - 1).mean()\n",
    "    data['MACD'] = data['EMAFast'] - data['EMASlow']\n",
    "    data['MACDSignal'] = data['MACD'].ewm(span = m_NumSignal, min_periods = m_NumSignal-1).mean()\n",
    "    data['MACDDiff'] = data['MACD'] - data['MACDSignal']\n",
    "    \n",
    "    return data\n",
    "\n",
    "def bollinger(data):\n",
    "    data['ma20'] = data['Close'].rolling(window=20).mean() # 20일 이동평균\n",
    "    data['stddev'] = data['Close'].rolling(window=20).std() # 20일 이동표준편차\n",
    "    data['band_upper'] = data['ma20'] + 2*data['stddev'] # 상단밴드\n",
    "    data['band_lower'] = data['ma20'] - 2*data['stddev'] # 하단밴드\n",
    "    \n",
    "    data.drop(['ma20','stddev'], axis = 1, inplace = True)\n",
    "    \n",
    "    return data\n",
    "\n",
    "def williams(data, n_days = 14):\n",
    "    data['low_min'] = data['Low'].rolling(window = n_days, center = False).min()\n",
    "    data['high_max'] = data['High'].rolling(window = n_days, center = False).max()\n",
    "    \n",
    "    data['willr'] = ((data['high_max'] - data['Close']) / (data['high_max'] - data['low_min'])) * -100\n",
    "    \n",
    "    return data\n",
    "\n",
    "def ROC(data):\n",
    "    data['diff'] = data['Close'].diff()\n",
    "    data['shift1'] = data['Close'].shift(1)\n",
    "    \n",
    "    data['rate_of_change'] = (data['diff'] / data['shift1']) * 100\n",
    "    \n",
    "    data.drop(['diff','shift1'], axis=1, inplace=True)\n",
    "    \n",
    "    return data"
   ]
  },
  {
   "cell_type": "code",
   "execution_count": null,
   "metadata": {
    "execution": {
     "iopub.execute_input": "2022-05-08T07:25:45.658689Z",
     "iopub.status.busy": "2022-05-08T07:25:45.658081Z",
     "iopub.status.idle": "2022-05-08T07:25:45.682157Z",
     "shell.execute_reply": "2022-05-08T07:25:45.681154Z",
     "shell.execute_reply.started": "2022-05-08T07:25:45.658639Z"
    }
   },
   "outputs": [],
   "source": [
    "ttmp = data[data['SecuritiesCode'] == 1332].reset_index(drop = True)\n",
    "ttmp = ROC(ttmp)\n",
    "display(ttmp['rate_of_change'].isnull().sum(), ttmp['rate_of_change'].describe())"
   ]
  },
  {
   "cell_type": "code",
   "execution_count": null,
   "metadata": {
    "execution": {
     "iopub.execute_input": "2022-05-07T14:16:32.31411Z",
     "iopub.status.busy": "2022-05-07T14:16:32.313676Z"
    }
   },
   "outputs": [],
   "source": [
    "## 주식 파생변수\n",
    "data['amount'] = data[\"Close\"] * data[\"Volume\"] # amount\n",
    "\n",
    "# OBV, Stochastic, RSI, MFI\n",
    "tmp = pd.DataFrame()\n",
    "\n",
    "for stock in tqdm(data['SecuritiesCode'].unique()):\n",
    "    tmp_stock = data[data['SecuritiesCode'] == stock].reset_index(drop = True)\n",
    "    \n",
    "    tmp_stock = Stochastic(tmp_stock)\n",
    "    tmp_stock = RSI(tmp_stock)\n",
    "    tmp_stock = OBV(tmp_stock)\n",
    "    tmp_stock = MFI(tmp_stock)\n",
    "    \n",
    "    tmp = pd.concat([tmp, tmp_stock])\n",
    "\n",
    "tmp.reset_index(drop = True, inplace=True)\n",
    "data = pd.merge(data, tmp[['Date','SecuritiesCode',\n",
    "                           'fast_k','fast_d','slow_d','RSI','OBV','OBV_EMA']], on = ['Date','SecuritiesCode'], how = 'left')\n"
   ]
  },
  {
   "cell_type": "code",
   "execution_count": null,
   "metadata": {
    "execution": {
     "iopub.execute_input": "2022-05-08T06:52:48.891826Z",
     "iopub.status.busy": "2022-05-08T06:52:48.891488Z",
     "iopub.status.idle": "2022-05-08T06:52:49.939349Z",
     "shell.execute_reply": "2022-05-08T06:52:49.938347Z",
     "shell.execute_reply.started": "2022-05-08T06:52:48.891792Z"
    }
   },
   "outputs": [],
   "source": [
    "## 이동평균\n",
    "data[\"close_mv5\"] = data[\"Close\"].rolling(5, min_periods=5).mean()\n",
    "data[\"close_mv10\"] = data[\"Close\"].rolling(10, min_periods=10).mean()\n",
    "data[\"close_mv20\"] = data[\"Close\"].rolling(20, min_periods=20).mean()\n",
    "\n",
    "data[\"volume_mv5\"] = data[\"Volume\"].rolling(5, min_periods=5).mean()\n",
    "data[\"volume_mv10\"] = data[\"Volume\"].rolling(10, min_periods=10).mean()\n",
    "data[\"volume_mv20\"] = data[\"Volume\"].rolling(20, min_periods=20).mean()\n",
    "\n",
    "data[\"amount_mv5\"] = data[\"amount\"].rolling(5, min_periods=5).mean()\n",
    "data[\"amount_mv10\"] = data[\"amount\"].rolling(10, min_periods=10).mean()\n",
    "data[\"amount_mv20\"] = data[\"amount\"].rolling(20, min_periods=20).mean()\n",
    "\n",
    "\n",
    "## 과거 시점 데이터\n",
    "tmp_df = pd.DataFrame()\n",
    "tmp_cols = []\n",
    "\n",
    "for i in range(1,6,1):\n",
    "    tmp_df = pd.concat([tmp_df, data[\"Close\"].shift(i).to_frame()], axis=1)\n",
    "    tmp_cols.append(\"close_\" + str(i) + \"shift\")\n",
    "tmp_df.columns = tmp_cols\n",
    "data = pd.concat([data, tmp_df], axis=1)"
   ]
  },
  {
   "cell_type": "code",
   "execution_count": null,
   "metadata": {
    "execution": {
     "iopub.execute_input": "2022-05-08T06:52:49.941337Z",
     "iopub.status.busy": "2022-05-08T06:52:49.940627Z",
     "iopub.status.idle": "2022-05-08T06:52:49.975428Z",
     "shell.execute_reply": "2022-05-08T06:52:49.974407Z",
     "shell.execute_reply.started": "2022-05-08T06:52:49.941299Z"
    }
   },
   "outputs": [],
   "source": [
    "data.head()"
   ]
  },
  {
   "cell_type": "code",
   "execution_count": null,
   "metadata": {},
   "outputs": [],
   "source": []
  }
 ],
 "metadata": {
  "kernelspec": {
   "display_name": "Python 3",
   "language": "python",
   "name": "python3"
  },
  "language_info": {
   "codemirror_mode": {
    "name": "ipython",
    "version": 3
   },
   "file_extension": ".py",
   "mimetype": "text/x-python",
   "name": "python",
   "nbconvert_exporter": "python",
   "pygments_lexer": "ipython3",
   "version": "3.8.8"
  }
 },
 "nbformat": 4,
 "nbformat_minor": 4
}
