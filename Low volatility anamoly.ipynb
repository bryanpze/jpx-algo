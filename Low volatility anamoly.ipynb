{
 "cells": [
  {
   "cell_type": "markdown",
   "id": "23d615ea",
   "metadata": {},
   "source": [
    "# Low volatility anamoly\n",
    "## Future returns of previously low return volatility portfolios outperform those of previously high return volatility portfolio\n"
   ]
  },
  {
   "cell_type": "code",
   "execution_count": 6,
   "id": "d9329029",
   "metadata": {},
   "outputs": [],
   "source": [
    "import pandas as pd\n",
    "import numpy as np\n",
    "import matplotlib.pyplot as plt\n",
    "pd.set_option('display.max_colwidth', None)\n",
    "from decimal import ROUND_HALF_UP, Decimal\n",
    "from statsmodels.api import OLS\n",
    "import random\n",
    "import statsmodels.api as sm\n"
   ]
  },
  {
   "cell_type": "code",
   "execution_count": 7,
   "id": "39a4d7ef",
   "metadata": {},
   "outputs": [],
   "source": [
    "train_stock_prices = pd.read_csv('ds/train_files/stock_prices.csv')\n",
    "supplemental_stock_prices = pd.read_csv('ds/supplemental_files/stock_prices.csv')\n",
    "data_stock_prices = pd.concat([train_stock_prices,supplemental_stock_prices],ignore_index=True)"
   ]
  },
  {
   "cell_type": "code",
   "execution_count": 8,
   "id": "109b5eaf",
   "metadata": {},
   "outputs": [],
   "source": [
    "def calc_adjusted_close(df):\n",
    "    df = df.sort_values(\"Date\",ascending=False)\n",
    "    df.loc[:,\"cummulative_adjustment_factor\"] = df[\"AdjustmentFactor\"].cumprod()\n",
    "    df.loc[:,\"adjusted_close\"] = (df[\"cummulative_adjustment_factor\"]*df[\"Close\"]).map(lambda x: float(Decimal(str(x)).quantize(Decimal(\"0.1\"),rounding=ROUND_HALF_UP)))\n",
    "    df = df.sort_values(\"Date\")\n",
    "    df.loc[df[\"adjusted_close\"]==0,\"adjusted_close\"] = np.nan\n",
    "    df.loc[:,\"adjusted_close\"] = df.loc[:,\"adjusted_close\"].ffill()\n",
    "    return df"
   ]
  },
  {
   "cell_type": "code",
   "execution_count": 32,
   "id": "24180ec0",
   "metadata": {},
   "outputs": [],
   "source": [
    "\n",
    "def calc_spread_return_sharpe(df: pd.DataFrame, portfolio_size: int = 200, toprank_weight_ratio: float = 2) -> float:\n",
    "    \"\"\"\n",
    "    Args:\n",
    "        df (pd.DataFrame): predicted results\n",
    "        portfolio_size (int): # of equities to buy/sell\n",
    "        toprank_weight_ratio (float): the relative weight of the most highly ranked stock compared to the least.\n",
    "    Returns:\n",
    "        (float): sharpe ratio\n",
    "    \"\"\"\n",
    "    def _calc_spread_return_per_day(df, portfolio_size, toprank_weight_ratio):\n",
    "        \"\"\"\n",
    "        Args:\n",
    "            df (pd.DataFrame): predicted results\n",
    "            portfolio_size (int): # of equities to buy/sell\n",
    "            toprank_weight_ratio (float): the relative weight of the most highly ranked stock compared to the least.\n",
    "        Returns:\n",
    "            (float): spread return\n",
    "        \"\"\"\n",
    "        assert df['Rank'].min() == 0\n",
    "        assert df['Rank'].max() == len(df['Rank']) - 1\n",
    "        weights = np.linspace(start=toprank_weight_ratio, stop=1, num=portfolio_size)\n",
    "        #Target is the rate of change \n",
    "        purchase = (df.sort_values(by='Rank')['Target'][:portfolio_size] * weights).sum() / weights.mean()\n",
    "        short = (df.sort_values(by='Rank', ascending=False)['Target'][:portfolio_size] * weights).sum() / weights.mean()\n",
    "        return purchase - short\n",
    "\n",
    "    buf = df.groupby('Date').apply(_calc_spread_return_per_day, portfolio_size, toprank_weight_ratio)\n",
    "    buf.plot()\n",
    "    sharpe_ratio = buf.mean() / buf.std()\n",
    "    return sharpe_ratio"
   ]
  },
  {
   "cell_type": "code",
   "execution_count": 37,
   "id": "ac8a338a",
   "metadata": {},
   "outputs": [],
   "source": [
    "def create_features(df,n):\n",
    "    df = df.copy()\n",
    "    df[\"Date\"] = pd.to_datetime(df[\"Date\"])\n",
    "    df = df.drop([\"RowId\"],axis=1)\n",
    "    df = df[df[\"Date\"]!=\"2020-10-01\"]\n",
    "    df = df.groupby(\"SecuritiesCode\").apply(calc_adjusted_close).reset_index(drop=True).sort_values([\"Date\",\"SecuritiesCode\"]).reset_index(drop=True)\n",
    "    #Paper uses 6 months (126 trading days) to a year (252 trading days)\n",
    "    df[\"std\"] = df.groupby(\"SecuritiesCode\")[\"adjusted_close\"].rolling(n).std().reset_index(0,drop=True)\n",
    "    df = df.dropna(subset=[\"std\"])\n",
    "    df[\"Rank\"]=df.groupby('Date')[\"std\"].rank(method='first')-1\n",
    "    return df"
   ]
  },
  {
   "cell_type": "code",
   "execution_count": 38,
   "id": "2ffdc07b",
   "metadata": {},
   "outputs": [],
   "source": [
    "risk = create_features(train_stock_prices,30)\n"
   ]
  },
  {
   "cell_type": "code",
   "execution_count": 39,
   "id": "085b3a58",
   "metadata": {},
   "outputs": [
    {
     "data": {
      "text/plain": [
       "0.041541286437843314"
      ]
     },
     "execution_count": 39,
     "metadata": {},
     "output_type": "execute_result"
    },
    {
     "data": {
      "image/png": "[encoded data removed]",
      "text/plain": [
       "<Figure size 432x288 with 1 Axes>"
      ]
     },
     "metadata": {
      "needs_background": "light"
     },
     "output_type": "display_data"
    }
   ],
   "source": [
    "calc_spread_return_sharpe(risk)"
   ]
  },
  {
   "cell_type": "code",
   "execution_count": null,
   "id": "088986a1",
   "metadata": {},
   "outputs": [],
   "source": []
  }
 ],
 "metadata": {
  "kernelspec": {
   "display_name": "Python 3",
   "language": "python",
   "name": "python3"
  },
  "language_info": {
   "codemirror_mode": {
    "name": "ipython",
    "version": 3
   },
   "file_extension": ".py",
   "mimetype": "text/x-python",
   "name": "python",
   "nbconvert_exporter": "python",
   "pygments_lexer": "ipython3",
   "version": "3.8.8"
  }
 },
 "nbformat": 4,
 "nbformat_minor": 5
}
