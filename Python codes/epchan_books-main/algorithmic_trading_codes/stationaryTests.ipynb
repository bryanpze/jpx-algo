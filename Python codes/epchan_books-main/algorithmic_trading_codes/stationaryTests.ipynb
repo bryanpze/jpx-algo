{
 "cells": [
  {
   "cell_type": "code",
   "execution_count": 1,
   "id": "3a254036",
   "metadata": {},
   "outputs": [],
   "source": [
    "import numpy as np\n",
    "import pandas as pd\n",
    "import matplotlib.pyplot as plt\n",
    "from statsmodels.tsa.stattools import adfuller\n",
    "from genhurst import genhurst "
   ]
  },
  {
   "cell_type": "code",
   "execution_count": 6,
   "id": "bc8997e9",
   "metadata": {},
   "outputs": [
    {
     "data": {
      "text/html": [
       "<div>\n",
       "<style scoped>\n",
       "    .dataframe tbody tr th:only-of-type {\n",
       "        vertical-align: middle;\n",
       "    }\n",
       "\n",
       "    .dataframe tbody tr th {\n",
       "        vertical-align: top;\n",
       "    }\n",
       "\n",
       "    .dataframe thead th {\n",
       "        text-align: right;\n",
       "    }\n",
       "</style>\n",
       "<table border=\"1\" class=\"dataframe\">\n",
       "  <thead>\n",
       "    <tr style=\"text-align: right;\">\n",
       "      <th></th>\n",
       "      <th>Date</th>\n",
       "      <th>Time</th>\n",
       "      <th>Close</th>\n",
       "    </tr>\n",
       "  </thead>\n",
       "  <tbody>\n",
       "    <tr>\n",
       "      <th>0</th>\n",
       "      <td>20070722</td>\n",
       "      <td>1715</td>\n",
       "      <td>1.048400</td>\n",
       "    </tr>\n",
       "    <tr>\n",
       "      <th>1</th>\n",
       "      <td>20070722</td>\n",
       "      <td>1716</td>\n",
       "      <td>1.048400</td>\n",
       "    </tr>\n",
       "    <tr>\n",
       "      <th>2</th>\n",
       "      <td>20070722</td>\n",
       "      <td>1717</td>\n",
       "      <td>1.048400</td>\n",
       "    </tr>\n",
       "    <tr>\n",
       "      <th>3</th>\n",
       "      <td>20070722</td>\n",
       "      <td>1718</td>\n",
       "      <td>1.048400</td>\n",
       "    </tr>\n",
       "    <tr>\n",
       "      <th>4</th>\n",
       "      <td>20070722</td>\n",
       "      <td>1719</td>\n",
       "      <td>1.048400</td>\n",
       "    </tr>\n",
       "    <tr>\n",
       "      <th>...</th>\n",
       "      <td>...</td>\n",
       "      <td>...</td>\n",
       "      <td>...</td>\n",
       "    </tr>\n",
       "    <tr>\n",
       "      <th>1730957</th>\n",
       "      <td>20120328</td>\n",
       "      <td>1729</td>\n",
       "      <td>0.998350</td>\n",
       "    </tr>\n",
       "    <tr>\n",
       "      <th>1730958</th>\n",
       "      <td>20120328</td>\n",
       "      <td>1730</td>\n",
       "      <td>0.998350</td>\n",
       "    </tr>\n",
       "    <tr>\n",
       "      <th>1730959</th>\n",
       "      <td>20120328</td>\n",
       "      <td>1731</td>\n",
       "      <td>0.998300</td>\n",
       "    </tr>\n",
       "    <tr>\n",
       "      <th>1730960</th>\n",
       "      <td>20120328</td>\n",
       "      <td>1732</td>\n",
       "      <td>0.998125</td>\n",
       "    </tr>\n",
       "    <tr>\n",
       "      <th>1730961</th>\n",
       "      <td>20120328</td>\n",
       "      <td>1733</td>\n",
       "      <td>0.998175</td>\n",
       "    </tr>\n",
       "  </tbody>\n",
       "</table>\n",
       "<p>1730962 rows × 3 columns</p>\n",
       "</div>"
      ],
      "text/plain": [
       "             Date  Time     Close\n",
       "0        20070722  1715  1.048400\n",
       "1        20070722  1716  1.048400\n",
       "2        20070722  1717  1.048400\n",
       "3        20070722  1718  1.048400\n",
       "4        20070722  1719  1.048400\n",
       "...           ...   ...       ...\n",
       "1730957  20120328  1729  0.998350\n",
       "1730958  20120328  1730  0.998350\n",
       "1730959  20120328  1731  0.998300\n",
       "1730960  20120328  1732  0.998125\n",
       "1730961  20120328  1733  0.998175\n",
       "\n",
       "[1730962 rows x 3 columns]"
      ]
     },
     "execution_count": 6,
     "metadata": {},
     "output_type": "execute_result"
    }
   ],
   "source": [
    "df=pd.read_csv('inputData_USDCAD.csv')\n",
    "df"
   ]
  },
  {
   "cell_type": "code",
   "execution_count": 7,
   "id": "31b0bf68",
   "metadata": {},
   "outputs": [
    {
     "data": {
      "text/plain": [
       "1418       1.046850\n",
       "2843       1.035750\n",
       "4266       1.041750\n",
       "5690       1.053700\n",
       "7110       1.064250\n",
       "             ...   \n",
       "1725242    0.999250\n",
       "1726667    0.997775\n",
       "1728092    0.990675\n",
       "1729517    0.994950\n",
       "1730942    0.998325\n",
       "Name: Close, Length: 1216, dtype: float64"
      ]
     },
     "execution_count": 7,
     "metadata": {},
     "output_type": "execute_result"
    }
   ],
   "source": [
    "y=df.loc[df['Time']==1659, 'Close']\n",
    "y"
   ]
  },
  {
   "cell_type": "code",
   "execution_count": 18,
   "id": "90731ffb",
   "metadata": {},
   "outputs": [
    {
     "data": {
      "text/plain": [
       "[<matplotlib.lines.Line2D at 0x21bd3d0f340>]"
      ]
     },
     "execution_count": 18,
     "metadata": {},
     "output_type": "execute_result"
    },
    {
     "data": {
      "image/png": "[encoded data removed]",
      "text/plain": [
       "<Figure size 432x288 with 1 Axes>"
      ]
     },
     "metadata": {
      "needs_background": "light"
     },
     "output_type": "display_data"
    }
   ],
   "source": [
    "plt.plot(y)"
   ]
  },
  {
   "cell_type": "code",
   "execution_count": 16,
   "id": "986c765e",
   "metadata": {},
   "outputs": [
    {
     "name": "stdout",
     "output_type": "stream",
     "text": [
      "(-1.8430182830405442, 0.3593229859889236, 1, 1214, {'1%': -3.4357480073434905, '5%': -2.863923702481129, '10%': -2.568039121778048})\n"
     ]
    }
   ],
   "source": [
    "results=adfuller(y, maxlag=1, regression='c', autolag=None)\n",
    "print(results)"
   ]
  },
  {
   "cell_type": "code",
   "execution_count": 22,
   "id": "8584d162",
   "metadata": {},
   "outputs": [
    {
     "data": {
      "text/plain": [
       "False"
      ]
     },
     "execution_count": 22,
     "metadata": {},
     "output_type": "execute_result"
    }
   ],
   "source": [
    "results[0]<results[4][\"10%\"]"
   ]
  },
  {
   "cell_type": "code",
   "execution_count": 8,
   "id": "c95af775",
   "metadata": {},
   "outputs": [
    {
     "name": "stdout",
     "output_type": "stream",
     "text": [
      "0.4752065659951603 1.6578910876327426e-135\n"
     ]
    }
   ],
   "source": [
    "H, pVal=genhurst(np.log(y))\n",
    "print(H,pVal)"
   ]
  },
  {
   "cell_type": "code",
   "execution_count": 12,
   "id": "9ca1d1c0",
   "metadata": {},
   "outputs": [
    {
     "data": {
      "text/plain": [
       "0.4752065659951603"
      ]
     },
     "execution_count": 12,
     "metadata": {},
     "output_type": "execute_result"
    }
   ],
   "source": [
    "genhurst(np.log(y))[0]"
   ]
  }
 ],
 "metadata": {
  "kernelspec": {
   "display_name": "Python 3",
   "language": "python",
   "name": "python3"
  },
  "language_info": {
   "codemirror_mode": {
    "name": "ipython",
    "version": 3
   },
   "file_extension": ".py",
   "mimetype": "text/x-python",
   "name": "python",
   "nbconvert_exporter": "python",
   "pygments_lexer": "ipython3",
   "version": "3.8.8"
  }
 },
 "nbformat": 4,
 "nbformat_minor": 5
}
