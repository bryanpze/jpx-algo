{
 "cells": [
  {
   "cell_type": "markdown",
   "id": "23d615ea",
   "metadata": {},
   "source": [
    "# Alphas"
   ]
  },
  {
   "cell_type": "code",
   "execution_count": 7,
   "id": "d9329029",
   "metadata": {},
   "outputs": [],
   "source": [
    "import pandas as pd\n",
    "import numpy as np\n",
    "import matplotlib.pyplot as plt\n",
    "pd.set_option('display.max_colwidth', None)\n",
    "from decimal import ROUND_HALF_UP, Decimal\n",
    "from statsmodels.api import OLS\n",
    "import random\n",
    "import statsmodels.api as sm\n",
    "from ta.volume import volume_weighted_average_price\n",
    "from tqdm.auto import tqdm\n",
    "tqdm.pandas()\n"
   ]
  },
  {
   "cell_type": "code",
   "execution_count": 8,
   "id": "39a4d7ef",
   "metadata": {},
   "outputs": [],
   "source": [
    "train_stock_prices = pd.read_csv('ds/train_files/stock_prices.csv')\n",
    "supplemental_stock_prices = pd.read_csv('ds/supplemental_files/stock_prices.csv')\n",
    "data_stock_prices = pd.concat([train_stock_prices,supplemental_stock_prices],ignore_index=True)"
   ]
  },
  {
   "cell_type": "code",
   "execution_count": 3,
   "id": "f08c3066",
   "metadata": {},
   "outputs": [],
   "source": [
    "train_financials = pd.read_csv('ds/train_files/financials.csv',low_memory=False)\n",
    "train_financials[\"Date\"] = pd.to_datetime(train_financials[\"Date\"])\n",
    "train_financials[\"EarningsPerShare\"] = pd.to_numeric(train_financials[\"EarningsPerShare\"],errors='coerce')\n",
    "supplemental_financials = pd.read_csv('ds/supplemental_files/financials.csv')\n",
    "supplemental_financials[\"Date\"] = pd.to_datetime(supplemental_financials[\"Date\"])\n",
    "supplemental_financials[\"EarningsPerShare\"] = pd.to_numeric(train_financials[\"EarningsPerShare\"],errors='coerce')"
   ]
  },
  {
   "cell_type": "code",
   "execution_count": 4,
   "id": "ca8e3626",
   "metadata": {},
   "outputs": [],
   "source": [
    "train_financials[\"QuarterEarningsPerShare\"] = train_financials[(train_financials[\"TypeOfDocument\"].isin([\"1QFinancialStatements_Consolidated_JP\",\"2QFinancialStatements_Consolidated_JP\",\"3QFinancialStatements_Consolidated_JP\",\"FYFinancialStatements_Consolidated_JP\",\"1QFinancialStatements_NonConsolidated_JP\",\"2QFinancialStatements_NonConsolidated_JP\",\"3QFinancialStatements_NonConsolidated_JP\",\"FYFinancialStatements_NonConsolidated_JP\",\"1QFinancialStatements_Consolidated_IFRS\",\"2QFinancialStatements_Consolidated_IFRS\",\"3QFinancialStatements_Consolidated_IFRS\",\"FYFinancialStatements_Consolidated_IFRS\",\"1QFinancialStatements_NonConsolidated_IFRS\",\"2QFinancialStatements_NonConsolidated_IFRS\",\"3QFinancialStatements_NonConsolidated_IFRS\",\"FYFinancialStatements_NonConsolidated_IFRS\",\"1QFinancialStatements_Consolidated_US\",\"2QFinancialStatements_Consolidated_US\",\"3QFinancialStatements_Consolidated_US\",\"FYFinancialStatements_Consolidated_US\",\"1QFinancialStatements_NonConsolidated_US\",\"2QFinancialStatements_NonConsolidated_US\",\"3QFinancialStatements_NonConsolidated_US\",\"FYFinancialStatements_NonConsolidated_US\"]))].groupby(\"SecuritiesCode\")[\"EarningsPerShare\"].diff()\n",
    "train_financials.loc[train_financials[\"TypeOfCurrentPeriod\"]==\"1Q\",\"QuarterEarningsPerShare\"] = train_financials[\"EarningsPerShare\"]\n",
    "supplemental_financials[\"QuarterEarningsPerShare\"] = supplemental_financials[(supplemental_financials[\"TypeOfDocument\"].isin([\"1QFinancialStatements_Consolidated_JP\",\"2QFinancialStatements_Consolidated_JP\",\"3QFinancialStatements_Consolidated_JP\",\"FYFinancialStatements_Consolidated_JP\",\"1QFinancialStatements_NonConsolidated_JP\",\"2QFinancialStatements_NonConsolidated_JP\",\"3QFinancialStatements_NonConsolidated_JP\",\"FYFinancialStatements_NonConsolidated_JP\",\"1QFinancialStatements_Consolidated_IFRS\",\"2QFinancialStatements_Consolidated_IFRS\",\"3QFinancialStatements_Consolidated_IFRS\",\"FYFinancialStatements_Consolidated_IFRS\",\"1QFinancialStatements_NonConsolidated_IFRS\",\"2QFinancialStatements_NonConsolidated_IFRS\",\"3QFinancialStatements_NonConsolidated_IFRS\",\"FYFinancialStatements_NonConsolidated_IFRS\",\"1QFinancialStatements_Consolidated_US\",\"2QFinancialStatements_Consolidated_US\",\"3QFinancialStatements_Consolidated_US\",\"FYFinancialStatements_Consolidated_US\",\"1QFinancialStatements_NonConsolidated_US\",\"2QFinancialStatements_NonConsolidated_US\",\"3QFinancialStatements_NonConsolidated_US\",\"FYFinancialStatements_NonConsolidated_US\"]))].groupby(\"SecuritiesCode\")[\"EarningsPerShare\"].diff()\n",
    "supplemental_financials.loc[supplemental_financials[\"TypeOfCurrentPeriod\"]==\"1Q\",\"QuarterEarningsPerShare\"] = supplemental_financials[\"EarningsPerShare\"]"
   ]
  },
  {
   "cell_type": "code",
   "execution_count": 5,
   "id": "30503187",
   "metadata": {},
   "outputs": [],
   "source": [
    "train_financials[\"QuarterEarningsPerShareFour\"] = train_financials[(train_financials[\"TypeOfDocument\"].isin([\"1QFinancialStatements_Consolidated_JP\",\"2QFinancialStatements_Consolidated_JP\",\"3QFinancialStatements_Consolidated_JP\",\"FYFinancialStatements_Consolidated_JP\",\"1QFinancialStatements_NonConsolidated_JP\",\"2QFinancialStatements_NonConsolidated_JP\",\"3QFinancialStatements_NonConsolidated_JP\",\"FYFinancialStatements_NonConsolidated_JP\",\"1QFinancialStatements_Consolidated_IFRS\",\"2QFinancialStatements_Consolidated_IFRS\",\"3QFinancialStatements_Consolidated_IFRS\",\"FYFinancialStatements_Consolidated_IFRS\",\"1QFinancialStatements_NonConsolidated_IFRS\",\"2QFinancialStatements_NonConsolidated_IFRS\",\"3QFinancialStatements_NonConsolidated_IFRS\",\"FYFinancialStatements_NonConsolidated_IFRS\",\"1QFinancialStatements_Consolidated_US\",\"2QFinancialStatements_Consolidated_US\",\"3QFinancialStatements_Consolidated_US\",\"FYFinancialStatements_Consolidated_US\",\"1QFinancialStatements_NonConsolidated_US\",\"2QFinancialStatements_NonConsolidated_US\",\"3QFinancialStatements_NonConsolidated_US\",\"FYFinancialStatements_NonConsolidated_US\"]))].groupby([\"SecuritiesCode\"])[\"QuarterEarningsPerShare\"].shift(4)\n",
    "supplemental_financials[\"QuarterEarningsPerShareFour\"] = supplemental_financials[(supplemental_financials[\"TypeOfDocument\"].isin([\"1QFinancialStatements_Consolidated_JP\",\"2QFinancialStatements_Consolidated_JP\",\"3QFinancialStatements_Consolidated_JP\",\"FYFinancialStatements_Consolidated_JP\",\"1QFinancialStatements_NonConsolidated_JP\",\"2QFinancialStatements_NonConsolidated_JP\",\"3QFinancialStatements_NonConsolidated_JP\",\"FYFinancialStatements_NonConsolidated_JP\",\"1QFinancialStatements_Consolidated_IFRS\",\"2QFinancialStatements_Consolidated_IFRS\",\"3QFinancialStatements_Consolidated_IFRS\",\"FYFinancialStatements_Consolidated_IFRS\",\"1QFinancialStatements_NonConsolidated_IFRS\",\"2QFinancialStatements_NonConsolidated_IFRS\",\"3QFinancialStatements_NonConsolidated_IFRS\",\"FYFinancialStatements_NonConsolidated_IFRS\",\"1QFinancialStatements_Consolidated_US\",\"2QFinancialStatements_Consolidated_US\",\"3QFinancialStatements_Consolidated_US\",\"FYFinancialStatements_Consolidated_US\",\"1QFinancialStatements_NonConsolidated_US\",\"2QFinancialStatements_NonConsolidated_US\",\"3QFinancialStatements_NonConsolidated_US\",\"FYFinancialStatements_NonConsolidated_US\"]))].groupby([\"SecuritiesCode\"])[\"QuarterEarningsPerShare\"].shift(4)\n",
    "train_financials['QuarterEarningsStd'] = train_financials[(train_financials[\"TypeOfDocument\"].isin([\"1QFinancialStatements_Consolidated_JP\",\"2QFinancialStatements_Consolidated_JP\",\"3QFinancialStatements_Consolidated_JP\",\"FYFinancialStatements_Consolidated_JP\",\"1QFinancialStatements_NonConsolidated_JP\",\"2QFinancialStatements_NonConsolidated_JP\",\"3QFinancialStatements_NonConsolidated_JP\",\"FYFinancialStatements_NonConsolidated_JP\",\"1QFinancialStatements_Consolidated_IFRS\",\"2QFinancialStatements_Consolidated_IFRS\",\"3QFinancialStatements_Consolidated_IFRS\",\"FYFinancialStatements_Consolidated_IFRS\",\"1QFinancialStatements_NonConsolidated_IFRS\",\"2QFinancialStatements_NonConsolidated_IFRS\",\"3QFinancialStatements_NonConsolidated_IFRS\",\"FYFinancialStatements_NonConsolidated_IFRS\",\"1QFinancialStatements_Consolidated_US\",\"2QFinancialStatements_Consolidated_US\",\"3QFinancialStatements_Consolidated_US\",\"FYFinancialStatements_Consolidated_US\",\"1QFinancialStatements_NonConsolidated_US\",\"2QFinancialStatements_NonConsolidated_US\",\"3QFinancialStatements_NonConsolidated_US\",\"FYFinancialStatements_NonConsolidated_US\"]))].groupby(\"SecuritiesCode\")[\"QuarterEarningsPerShare\"].rolling(8,1).std().reset_index(0,drop=True)\n",
    "supplemental_financials['QuarterEarningsStd'] = supplemental_financials[(supplemental_financials[\"TypeOfDocument\"].isin([\"1QFinancialStatements_Consolidated_JP\",\"2QFinancialStatements_Consolidated_JP\",\"3QFinancialStatements_Consolidated_JP\",\"FYFinancialStatements_Consolidated_JP\",\"1QFinancialStatements_NonConsolidated_JP\",\"2QFinancialStatements_NonConsolidated_JP\",\"3QFinancialStatements_NonConsolidated_JP\",\"FYFinancialStatements_NonConsolidated_JP\",\"1QFinancialStatements_Consolidated_IFRS\",\"2QFinancialStatements_Consolidated_IFRS\",\"3QFinancialStatements_Consolidated_IFRS\",\"FYFinancialStatements_Consolidated_IFRS\",\"1QFinancialStatements_NonConsolidated_IFRS\",\"2QFinancialStatements_NonConsolidated_IFRS\",\"3QFinancialStatements_NonConsolidated_IFRS\",\"FYFinancialStatements_NonConsolidated_IFRS\",\"1QFinancialStatements_Consolidated_US\",\"2QFinancialStatements_Consolidated_US\",\"3QFinancialStatements_Consolidated_US\",\"FYFinancialStatements_Consolidated_US\",\"1QFinancialStatements_NonConsolidated_US\",\"2QFinancialStatements_NonConsolidated_US\",\"3QFinancialStatements_NonConsolidated_US\",\"FYFinancialStatements_NonConsolidated_US\"]))].groupby(\"SecuritiesCode\")[\"QuarterEarningsPerShare\"].rolling(8,1).std().reset_index(0,drop=True)"
   ]
  },
  {
   "cell_type": "code",
   "execution_count": 9,
   "id": "109b5eaf",
   "metadata": {},
   "outputs": [],
   "source": [
    "def calc_adjusted_close(df):\n",
    "    df = df.sort_values(\"Date\",ascending=False)\n",
    "    df.loc[:,\"cummulative_adjustment_factor\"] = df[\"AdjustmentFactor\"].cumprod()\n",
    "    df.loc[:,\"adjusted_close\"] = (df[\"cummulative_adjustment_factor\"]*df[\"Close\"]).map(lambda x: float(Decimal(str(x)).quantize(Decimal(\"0.1\"),rounding=ROUND_HALF_UP)))\n",
    "    df.loc[:,\"adjusted_open\"] = (df[\"cummulative_adjustment_factor\"]*df[\"Open\"]).map(lambda x: float(Decimal(str(x)).quantize(Decimal(\"0.1\"),rounding=ROUND_HALF_UP)))\n",
    "    df.loc[:,\"adjusted_high\"] = (df[\"cummulative_adjustment_factor\"]*df[\"High\"]).map(lambda x: float(Decimal(str(x)).quantize(Decimal(\"0.1\"),rounding=ROUND_HALF_UP)))\n",
    "    df.loc[:,\"adjusted_low\"] = (df[\"cummulative_adjustment_factor\"]*df[\"Low\"]).map(lambda x: float(Decimal(str(x)).quantize(Decimal(\"0.1\"),rounding=ROUND_HALF_UP)))\n",
    "    df = df.sort_values(\"Date\")\n",
    "    df.loc[df[\"adjusted_close\"]==0,\"adjusted_close\"] = np.nan\n",
    "    df.loc[:,\"adjusted_close\"] = df.loc[:,\"adjusted_close\"].ffill()\n",
    "    return df"
   ]
  },
  {
   "cell_type": "code",
   "execution_count": 10,
   "id": "c1d68540",
   "metadata": {},
   "outputs": [],
   "source": [
    "def calc_adjusted_volume(df):\n",
    "    df.loc[:,\"adjusted_volume\"] = (df[\"Volume\"]/df[\"cummulative_adjustment_factor\"]).map(lambda x: float(Decimal(str(x)).quantize(Decimal(\"0.1\"),rounding=ROUND_HALF_UP)))\n",
    "    df = df.sort_values(\"Date\")\n",
    "    df.loc[df[\"adjusted_volume\"]==0,\"adjusted_volume\"] = np.nan\n",
    "    df.loc[:,\"adjusted_volume\"] = df.loc[:,\"adjusted_volume\"].ffill()\n",
    "    return df"
   ]
  },
  {
   "cell_type": "code",
   "execution_count": 11,
   "id": "24180ec0",
   "metadata": {},
   "outputs": [],
   "source": [
    "\n",
    "def calc_spread_return_sharpe(df: pd.DataFrame, portfolio_size: int = 200, toprank_weight_ratio: float = 2) -> float:\n",
    "    \"\"\"\n",
    "    Args:\n",
    "        df (pd.DataFrame): predicted results\n",
    "        portfolio_size (int): # of equities to buy/sell\n",
    "        toprank_weight_ratio (float): the relative weight of the most highly ranked stock compared to the least.\n",
    "    Returns:\n",
    "        (float): sharpe ratio\n",
    "    \"\"\"\n",
    "    def _calc_spread_return_per_day(df, portfolio_size, toprank_weight_ratio):\n",
    "        \"\"\"\n",
    "        Args:\n",
    "            df (pd.DataFrame): predicted results\n",
    "            portfolio_size (int): # of equities to buy/sell\n",
    "            toprank_weight_ratio (float): the relative weight of the most highly ranked stock compared to the least.\n",
    "        Returns:\n",
    "            (float): spread return\n",
    "        \"\"\"\n",
    "        assert df['Rank'].min() == 0\n",
    "        assert df['Rank'].max() == len(df['Rank']) - 1\n",
    "        weights = np.linspace(start=toprank_weight_ratio, stop=1, num=portfolio_size)\n",
    "        #Target is the rate of change \n",
    "        purchase = (df.sort_values(by='Rank')['Target'][:portfolio_size] * weights).sum() / weights.mean()\n",
    "        short = (df.sort_values(by='Rank', ascending=False)['Target'][:portfolio_size] * weights).sum() / weights.mean()\n",
    "        return purchase - short\n",
    "\n",
    "    buf = df.groupby('Date').apply(_calc_spread_return_per_day, portfolio_size, toprank_weight_ratio)\n",
    "    sharpe_ratio = buf.mean() / buf.std()\n",
    "    print(buf.mean())\n",
    "    print(buf.std())\n",
    "    buf.plot()\n",
    "    return sharpe_ratio"
   ]
  },
  {
   "cell_type": "code",
   "execution_count": 12,
   "id": "35b36a16",
   "metadata": {},
   "outputs": [],
   "source": [
    "def factor_2(open,close,volume):\n",
    "    temp_1 = np.log(volume).diff(2)\n",
    "    temp_1_rank = temp_1.rank(pct=True)\n",
    "    temp_2 = (close-open)/open\n",
    "    temp_2_rank = temp_2.rank(pct=True)\n",
    "    #measures correlation between change in volume in two days and the daily return, to check for reversal strategy\n",
    "    #if positive return increases as volume increases\n",
    "    #Higher returns if correlation is negative\n",
    "    #Hence if volume is high,returns must be low , if volume is low, returns must be high\n",
    "    #We want to buy when volume is high returns is low and short when volume is low and returns is high\n",
    "    #Factor 2 only shows the correlation, will need to combine with another indicator to divide it\n",
    "    factor = -1 * temp_1_rank.rolling(6).corr(temp_2_rank)\n",
    "    factor = factor.to_frame()\n",
    "    return     factor\n",
    "    "
   ]
  },
  {
   "cell_type": "code",
   "execution_count": 13,
   "id": "08c1ef4e",
   "metadata": {},
   "outputs": [],
   "source": [
    "def factor_13(close,volume):\n",
    "    close_rank = close.rank(pct = True)\n",
    "    volume_rank = volume.rank(pct = True)\n",
    "    factor = -1 * (close_rank.rolling(5).cov(volume_rank)).rank(pct=True)\n",
    "    #if covariance is negative, the higher the returns\n",
    "    return factor"
   ]
  },
  {
   "cell_type": "code",
   "execution_count": 14,
   "id": "6e36d185",
   "metadata": {},
   "outputs": [],
   "source": [
    "def factor_41(high,low,vwap):\n",
    "    return (vwap - np.sqrt(high*low)) "
   ]
  },
  {
   "cell_type": "code",
   "execution_count": 15,
   "id": "dbcb9c2b",
   "metadata": {},
   "outputs": [],
   "source": [
    "def factor_83(high,low,close,volume,vwap):\n",
    "    tmp = (high-low)/close.rolling(5).mean()\n",
    "    numerator = tmp.shift(2).rank(pct=True) * volume.rank(pct=True)\n",
    "    denominator = tmp/(vwap-close)\n",
    "    factor = numerator/denominator\n",
    "    return factor"
   ]
  },
  {
   "cell_type": "code",
   "execution_count": 24,
   "id": "67abd00b",
   "metadata": {},
   "outputs": [],
   "source": [
    "def factor_55(high,low,close,volume):\n",
    "    rolling_12_low = low.rolling(12).min()\n",
    "    rolling_12_high = high.rolling(12).max()\n",
    "    daily_rank = ((close-rolling_12_low)/(rolling_12_high - rolling_12_low)).rank(pct = True)\n",
    "    volume_rank = volume.rank(pct=True)\n",
    "    factor = -1 * daily_rank.rolling(6).corr(volume_rank)\n",
    "    return factor"
   ]
  },
  {
   "cell_type": "code",
   "execution_count": 17,
   "id": "1f00f8c0",
   "metadata": {},
   "outputs": [],
   "source": [
    "def factor_101(close,open,high,low):\n",
    "    factor = (close-open)/(high-low+1)\n",
    "    #if closing price is closer to high, returns are higher\n",
    "    return factor"
   ]
  },
  {
   "cell_type": "code",
   "execution_count": 20,
   "id": "ac8a338a",
   "metadata": {},
   "outputs": [],
   "source": [
    "def create_features(df):\n",
    "    df = df.copy()\n",
    "    df[\"Date\"] = pd.to_datetime(df[\"Date\"])\n",
    "    df = df.drop([\"RowId\"],axis=1)\n",
    "    df = df[df[\"Date\"]!=\"2020-10-01\"]\n",
    "    df = df.groupby(\"SecuritiesCode\").apply(calc_adjusted_close).reset_index(drop=True).sort_values([\"Date\",\"SecuritiesCode\"]).reset_index(drop=True)\n",
    "    df = df.groupby(\"SecuritiesCode\").apply(calc_adjusted_volume).reset_index(drop=True).sort_values([\"Date\",\"SecuritiesCode\"]).reset_index(drop=True)\n",
    "    df[\"VWAP\"] = df.groupby(\"SecuritiesCode\").apply(lambda x: volume_weighted_average_price(x[\"adjusted_high\"],x[\"adjusted_low\"],x[\"adjusted_close\"],x[\"adjusted_volume\"],5)).reset_index(drop=True)\n",
    "    df[\"factor_2\"] = df.groupby(\"SecuritiesCode\").progress_apply(lambda x : factor_2(x[\"adjusted_open\"],x[\"adjusted_close\"],x[\"adjusted_volume\"])).reset_index(0,drop=True)\n",
    "    df[\"factor_13\"] = df.groupby(\"SecuritiesCode\").progress_apply(lambda x : factor_13(x[\"adjusted_close\"],x[\"adjusted_volume\"])).reset_index(0,drop=True)\n",
    "    df[\"factor_41\"] = df.groupby(\"SecuritiesCode\").progress_apply(lambda x : factor_41(x[\"adjusted_high\"],x[\"adjusted_low\"],x[\"VWAP\"])).reset_index(0,drop=True)\n",
    "    df[\"factor_55\"] = df.groupby(\"SecuritiesCode\").progress_apply(lambda x : factor_55(x[\"adjusted_high\"],x[\"adjusted_low\"],x['adjusted_close'],x[\"adjusted_volume\"])).reset_index(0,drop=True)\n",
    "    df[\"factor_83\"] = df.groupby(\"SecuritiesCode\").progress_apply(lambda x : factor_83(x[\"adjusted_high\"],x[\"adjusted_low\"],x['adjusted_close'],x[\"adjusted_volume\"],x[\"VWAP\"])).reset_index(0,drop=True)\n",
    "    df[\"factor_101\"] = df.groupby(\"SecuritiesCode\").progress_apply(lambda x : factor_101(x[\"adjusted_close\"],x[\"adjusted_open\"],x['adjusted_high'],x[\"adjusted_low\"])).reset_index(0,drop=True)\n",
    "    df=df.dropna(subset=[\"factor_55\"])\n",
    "    df[\"Rank\"] = df.groupby([\"Date\"])[\"factor_55\"].rank(method='first',ascending=False)-1\n",
    "    return df"
   ]
  },
  {
   "cell_type": "code",
   "execution_count": 26,
   "id": "7271ae71",
   "metadata": {},
   "outputs": [
    {
     "data": {
      "application/vnd.jupyter.widget-view+json": {
       "model_id": "fc87be94efcf44c3b11caebfc02518bb",
       "version_major": 2,
       "version_minor": 0
      },
      "text/plain": [
       "  0%|          | 0/2000 [00:00<?, ?it/s]"
      ]
     },
     "metadata": {},
     "output_type": "display_data"
    },
    {
     "data": {
      "application/vnd.jupyter.widget-view+json": {
       "model_id": "a8d9d8eb793649c39f66ca02f4b20a35",
       "version_major": 2,
       "version_minor": 0
      },
      "text/plain": [
       "  0%|          | 0/2000 [00:00<?, ?it/s]"
      ]
     },
     "metadata": {},
     "output_type": "display_data"
    },
    {
     "data": {
      "application/vnd.jupyter.widget-view+json": {
       "model_id": "48ae0ca5b8714b33af00bc1b144c6f7b",
       "version_major": 2,
       "version_minor": 0
      },
      "text/plain": [
       "  0%|          | 0/2000 [00:00<?, ?it/s]"
      ]
     },
     "metadata": {},
     "output_type": "display_data"
    },
    {
     "data": {
      "application/vnd.jupyter.widget-view+json": {
       "model_id": "776680e5049b46b49622b03eb164a69e",
       "version_major": 2,
       "version_minor": 0
      },
      "text/plain": [
       "  0%|          | 0/2000 [00:00<?, ?it/s]"
      ]
     },
     "metadata": {},
     "output_type": "display_data"
    },
    {
     "data": {
      "application/vnd.jupyter.widget-view+json": {
       "model_id": "2004a3e74c5f4eb984306fc80a4729ab",
       "version_major": 2,
       "version_minor": 0
      },
      "text/plain": [
       "  0%|          | 0/2000 [00:00<?, ?it/s]"
      ]
     },
     "metadata": {},
     "output_type": "display_data"
    },
    {
     "data": {
      "application/vnd.jupyter.widget-view+json": {
       "model_id": "e7c9e3b236ca467e9200865eee57e5b7",
       "version_major": 2,
       "version_minor": 0
      },
      "text/plain": [
       "  0%|          | 0/2000 [00:00<?, ?it/s]"
      ]
     },
     "metadata": {},
     "output_type": "display_data"
    },
    {
     "name": "stdout",
     "output_type": "stream",
     "text": [
      "0.04462489760168394\n",
      "0.8085205777277708\n"
     ]
    },
    {
     "data": {
      "text/plain": [
       "0.055193273778010345"
      ]
     },
     "execution_count": 26,
     "metadata": {},
     "output_type": "execute_result"
    },
    {
     "data": {
      "image/png": "[encoded data removed]",
      "text/plain": [
       "<Figure size 432x288 with 1 Axes>"
      ]
     },
     "metadata": {
      "needs_background": "light"
     },
     "output_type": "display_data"
    }
   ],
   "source": [
    "test = create_features(train_stock_prices)\n",
    "calc_spread_return_sharpe(test)"
   ]
  },
  {
   "cell_type": "code",
   "execution_count": 44,
   "id": "d8f9546d",
   "metadata": {},
   "outputs": [
    {
     "data": {
      "application/vnd.jupyter.widget-view+json": {
       "model_id": "46b55019ab084211867737d674f9f9e5",
       "version_major": 2,
       "version_minor": 0
      },
      "text/plain": [
       "  0%|          | 0/2000 [00:00<?, ?it/s]"
      ]
     },
     "metadata": {},
     "output_type": "display_data"
    },
    {
     "data": {
      "application/vnd.jupyter.widget-view+json": {
       "model_id": "a9549cd04288431698f5691b802300a7",
       "version_major": 2,
       "version_minor": 0
      },
      "text/plain": [
       "  0%|          | 0/2000 [00:00<?, ?it/s]"
      ]
     },
     "metadata": {},
     "output_type": "display_data"
    },
    {
     "data": {
      "application/vnd.jupyter.widget-view+json": {
       "model_id": "29f9853808e04cd384b61993b74ec99a",
       "version_major": 2,
       "version_minor": 0
      },
      "text/plain": [
       "  0%|          | 0/2000 [00:00<?, ?it/s]"
      ]
     },
     "metadata": {},
     "output_type": "display_data"
    },
    {
     "data": {
      "application/vnd.jupyter.widget-view+json": {
       "model_id": "dcf452267ac24b83adf13a827499b5dd",
       "version_major": 2,
       "version_minor": 0
      },
      "text/plain": [
       "  0%|          | 0/2000 [00:00<?, ?it/s]"
      ]
     },
     "metadata": {},
     "output_type": "display_data"
    },
    {
     "data": {
      "application/vnd.jupyter.widget-view+json": {
       "model_id": "12c2b2b0d9ad4e5b845426e8c67dcbc4",
       "version_major": 2,
       "version_minor": 0
      },
      "text/plain": [
       "  0%|          | 0/2000 [00:00<?, ?it/s]"
      ]
     },
     "metadata": {},
     "output_type": "display_data"
    },
    {
     "name": "stdout",
     "output_type": "stream",
     "text": [
      "0.07191265050927446\n",
      "1.0357610620902031\n"
     ]
    },
    {
     "data": {
      "text/plain": [
       "0.0694297682557714"
      ]
     },
     "execution_count": 44,
     "metadata": {},
     "output_type": "execute_result"
    },
    {
     "data": {
      "image/png": "[encoded data removed]",
      "text/plain": [
       "<Figure size 432x288 with 1 Axes>"
      ]
     },
     "metadata": {
      "needs_background": "light"
     },
     "output_type": "display_data"
    }
   ],
   "source": [
    "test = create_features(train_stock_prices)\n",
    "calc_spread_return_sharpe(test)"
   ]
  },
  {
   "cell_type": "code",
   "execution_count": 35,
   "id": "4a2cc6ef",
   "metadata": {},
   "outputs": [
    {
     "data": {
      "application/vnd.jupyter.widget-view+json": {
       "model_id": "b0f969adb9da4711a67b50ea5ffef628",
       "version_major": 2,
       "version_minor": 0
      },
      "text/plain": [
       "  0%|          | 0/2000 [00:00<?, ?it/s]"
      ]
     },
     "metadata": {},
     "output_type": "display_data"
    },
    {
     "data": {
      "application/vnd.jupyter.widget-view+json": {
       "model_id": "7d6300b6d71643e49b2f694159752c57",
       "version_major": 2,
       "version_minor": 0
      },
      "text/plain": [
       "  0%|          | 0/2000 [00:00<?, ?it/s]"
      ]
     },
     "metadata": {},
     "output_type": "display_data"
    },
    {
     "data": {
      "application/vnd.jupyter.widget-view+json": {
       "model_id": "9ef40112e9d64a9dbfaab8135ca3a33e",
       "version_major": 2,
       "version_minor": 0
      },
      "text/plain": [
       "  0%|          | 0/2000 [00:00<?, ?it/s]"
      ]
     },
     "metadata": {},
     "output_type": "display_data"
    },
    {
     "data": {
      "application/vnd.jupyter.widget-view+json": {
       "model_id": "221570dacd984ea99b22795b7b6f94e1",
       "version_major": 2,
       "version_minor": 0
      },
      "text/plain": [
       "  0%|          | 0/2000 [00:00<?, ?it/s]"
      ]
     },
     "metadata": {},
     "output_type": "display_data"
    },
    {
     "name": "stdout",
     "output_type": "stream",
     "text": [
      "0.26162095895748494\n",
      "1.1383067295814906\n"
     ]
    },
    {
     "data": {
      "text/plain": [
       "0.22983344660860644"
      ]
     },
     "execution_count": 35,
     "metadata": {},
     "output_type": "execute_result"
    },
    {
     "data": {
      "image/png": "[encoded data removed]",
      "text/plain": [
       "<Figure size 432x288 with 1 Axes>"
      ]
     },
     "metadata": {
      "needs_background": "light"
     },
     "output_type": "display_data"
    }
   ],
   "source": [
    "test1 = create_features(supplemental_stock_prices)\n",
    "calc_spread_return_sharpe(test1)"
   ]
  },
  {
   "cell_type": "code",
   "execution_count": 256,
   "id": "6a4a957e",
   "metadata": {},
   "outputs": [
    {
     "data": {
      "application/vnd.jupyter.widget-view+json": {
       "model_id": "7b1dc612b7f34874ae4e16f37e00d135",
       "version_major": 2,
       "version_minor": 0
      },
      "text/plain": [
       "  0%|          | 0/2000 [00:00<?, ?it/s]"
      ]
     },
     "metadata": {},
     "output_type": "display_data"
    },
    {
     "data": {
      "application/vnd.jupyter.widget-view+json": {
       "model_id": "79e001fbd84d4c319e01eee00d0b788c",
       "version_major": 2,
       "version_minor": 0
      },
      "text/plain": [
       "  0%|          | 0/2000 [00:00<?, ?it/s]"
      ]
     },
     "metadata": {},
     "output_type": "display_data"
    },
    {
     "data": {
      "application/vnd.jupyter.widget-view+json": {
       "model_id": "76a3bde3e975472ab20eb563dd0496f9",
       "version_major": 2,
       "version_minor": 0
      },
      "text/plain": [
       "  0%|          | 0/2000 [00:00<?, ?it/s]"
      ]
     },
     "metadata": {},
     "output_type": "display_data"
    },
    {
     "data": {
      "application/vnd.jupyter.widget-view+json": {
       "model_id": "b74835455b884b8faeeb60dd570e79ee",
       "version_major": 2,
       "version_minor": 0
      },
      "text/plain": [
       "  0%|          | 0/2000 [00:00<?, ?it/s]"
      ]
     },
     "metadata": {},
     "output_type": "display_data"
    },
    {
     "name": "stdout",
     "output_type": "stream",
     "text": [
      "0.13064959211379687\n",
      "1.274442178257963\n"
     ]
    },
    {
     "data": {
      "text/plain": [
       "0.10251511943239512"
      ]
     },
     "execution_count": 256,
     "metadata": {},
     "output_type": "execute_result"
    },
    {
     "data": {
      "image/png": "[encoded data removed]",
      "text/plain": [
       "<Figure size 432x288 with 1 Axes>"
      ]
     },
     "metadata": {
      "needs_background": "light"
     },
     "output_type": "display_data"
    }
   ],
   "source": [
    "test = create_features(train_stock_prices)\n",
    "calc_spread_return_sharpe(test)"
   ]
  },
  {
   "cell_type": "code",
   "execution_count": 231,
   "id": "0002da9a",
   "metadata": {},
   "outputs": [
    {
     "data": {
      "application/vnd.jupyter.widget-view+json": {
       "model_id": "621ccd5160b243ba872a4c4ee8f9e202",
       "version_major": 2,
       "version_minor": 0
      },
      "text/plain": [
       "  0%|          | 0/2000 [00:00<?, ?it/s]"
      ]
     },
     "metadata": {},
     "output_type": "display_data"
    },
    {
     "data": {
      "application/vnd.jupyter.widget-view+json": {
       "model_id": "16dc2871a9e34a5e9988061559277b6a",
       "version_major": 2,
       "version_minor": 0
      },
      "text/plain": [
       "  0%|          | 0/2000 [00:00<?, ?it/s]"
      ]
     },
     "metadata": {},
     "output_type": "display_data"
    },
    {
     "data": {
      "application/vnd.jupyter.widget-view+json": {
       "model_id": "8ca15a63129a44d890e4fb4b5766253e",
       "version_major": 2,
       "version_minor": 0
      },
      "text/plain": [
       "  0%|          | 0/2000 [00:00<?, ?it/s]"
      ]
     },
     "metadata": {},
     "output_type": "display_data"
    },
    {
     "name": "stdout",
     "output_type": "stream",
     "text": [
      "0.05572175101906737\n",
      "0.7290469413084415\n"
     ]
    },
    {
     "data": {
      "text/plain": [
       "0.07643095096052656"
      ]
     },
     "execution_count": 231,
     "metadata": {},
     "output_type": "execute_result"
    },
    {
     "data": {
      "image/png": "[encoded data removed]",
      "text/plain": [
       "<Figure size 432x288 with 1 Axes>"
      ]
     },
     "metadata": {
      "needs_background": "light"
     },
     "output_type": "display_data"
    }
   ],
   "source": [
    "#This is factor 2\n",
    "test = create_features(train_stock_prices)\n",
    "calc_spread_return_sharpe(test)"
   ]
  },
  {
   "cell_type": "code",
   "execution_count": 253,
   "id": "8ae99380",
   "metadata": {},
   "outputs": [
    {
     "data": {
      "application/vnd.jupyter.widget-view+json": {
       "model_id": "527d39505e2444da888a1f955ca690a8",
       "version_major": 2,
       "version_minor": 0
      },
      "text/plain": [
       "  0%|          | 0/2000 [00:00<?, ?it/s]"
      ]
     },
     "metadata": {},
     "output_type": "display_data"
    },
    {
     "data": {
      "application/vnd.jupyter.widget-view+json": {
       "model_id": "62ecc91bfb73431789c58600cb9ec155",
       "version_major": 2,
       "version_minor": 0
      },
      "text/plain": [
       "  0%|          | 0/2000 [00:00<?, ?it/s]"
      ]
     },
     "metadata": {},
     "output_type": "display_data"
    },
    {
     "data": {
      "application/vnd.jupyter.widget-view+json": {
       "model_id": "066dbd4f6e69439288c0485892c07946",
       "version_major": 2,
       "version_minor": 0
      },
      "text/plain": [
       "  0%|          | 0/2000 [00:00<?, ?it/s]"
      ]
     },
     "metadata": {},
     "output_type": "display_data"
    },
    {
     "data": {
      "application/vnd.jupyter.widget-view+json": {
       "model_id": "a736871d50af483c9ddc679e9d8f2fd1",
       "version_major": 2,
       "version_minor": 0
      },
      "text/plain": [
       "  0%|          | 0/2000 [00:00<?, ?it/s]"
      ]
     },
     "metadata": {},
     "output_type": "display_data"
    },
    {
     "name": "stdout",
     "output_type": "stream",
     "text": [
      "0.12373887290002819\n",
      "1.273213923432733\n"
     ]
    },
    {
     "data": {
      "text/plain": [
       "0.09718623918784501"
      ]
     },
     "execution_count": 253,
     "metadata": {},
     "output_type": "execute_result"
    },
    {
     "data": {
      "image/png": "[encoded data removed]",
      "text/plain": [
       "<Figure size 432x288 with 1 Axes>"
      ]
     },
     "metadata": {
      "needs_background": "light"
     },
     "output_type": "display_data"
    }
   ],
   "source": [
    "#41\n",
    "test = create_features(train_stock_prices)\n",
    "calc_spread_return_sharpe(test)"
   ]
  }
 ],
 "metadata": {
  "kernelspec": {
   "display_name": "Python 3",
   "language": "python",
   "name": "python3"
  },
  "language_info": {
   "codemirror_mode": {
    "name": "ipython",
    "version": 3
   },
   "file_extension": ".py",
   "mimetype": "text/x-python",
   "name": "python",
   "nbconvert_exporter": "python",
   "pygments_lexer": "ipython3",
   "version": "3.8.8"
  }
 },
 "nbformat": 4,
 "nbformat_minor": 5
}
