{
 "cells": [
  {
   "cell_type": "markdown",
   "id": "243094f1",
   "metadata": {},
   "source": [
    "# Price momentum\n",
    "## Future returns are correlated with past returns\n",
    "\n",
    "Monthly return, t=0 is most recent month \n",
    "$$R_i(t) = \\frac{P_i(t)}{P_i(t+1)}-1$$\n",
    "\\\n",
    "Cummulative return computed over t day \"formation period\" (usually T=12) skipping the most recent S-month skip period (usually S=1).Suppose dec 2022, then cummulative return is nov2022/oct2021\n",
    "$$R_{i}^{cum} = \\frac{P_i(S)}{P_i(S+T)}-1$$\n",
    "\\\n",
    "Mean monthly return computed over formation period\n",
    "$$R_{i}^{mean} = \\frac{1}{T} \\sum \\limits _{t=S} ^{S+T-1} R_{i}(t)$$\n",
    "\\\n",
    "Risk adjusted mean return\n",
    "$$R_{i}^{risk adj} = \\frac{R_{i}^{mean}}{\\sigma{i}}$$\n",
    "\\\n",
    "$\\sigma_{i}$ is the monthly volatility calculated over formation period\n",
    "$$ \\sigma_{i}^{2} = \\frac{1}{T-1} \\sum \\limits _{t=S} ^{S+T-1} (R_{i}(t)-R_{i}^{mean})^2$$\n",
    "selection criterion based on $R_{i}^{cum}$ $R_{i}^{mean}$ $R_{i}^{risk adj}$ "
   ]
  },
  {
   "cell_type": "code",
   "execution_count": 1,
   "id": "5e9e7099",
   "metadata": {},
   "outputs": [],
   "source": [
    "import pandas as pd\n",
    "import numpy as np\n",
    "import matplotlib.pyplot as plt\n",
    "pd.set_option('display.max_colwidth', None)\n",
    "from decimal import ROUND_HALF_UP, Decimal\n",
    "from statsmodels.api import OLS\n",
    "import random\n",
    "import statsmodels.api as sm\n"
   ]
  },
  {
   "cell_type": "code",
   "execution_count": 2,
   "id": "d9c7cd70",
   "metadata": {},
   "outputs": [],
   "source": [
    "train_stock_prices = pd.read_csv('ds/train_files/stock_prices.csv')\n",
    "supplemental_stock_prices = pd.read_csv('ds/supplemental_files/stock_prices.csv')\n",
    "data_stock_prices = pd.concat([train_stock_prices,supplemental_stock_prices],ignore_index=True)"
   ]
  },
  {
   "cell_type": "code",
   "execution_count": 3,
   "id": "c77f1611",
   "metadata": {},
   "outputs": [],
   "source": [
    "train_financials = pd.read_csv('ds/train_files/financials.csv',low_memory=False)\n",
    "supplemental_financials = pd.read_csv('ds/supplemental_files/financials.csv')"
   ]
  },
  {
   "cell_type": "code",
   "execution_count": 4,
   "id": "07f0c264",
   "metadata": {},
   "outputs": [],
   "source": [
    "def calc_adjusted_close(df):\n",
    "    df = df.sort_values(\"Date\",ascending=False)\n",
    "    df.loc[:,\"cummulative_adjustment_factor\"] = df[\"AdjustmentFactor\"].cumprod()\n",
    "    df.loc[:,\"adjusted_close\"] = (df[\"cummulative_adjustment_factor\"]*df[\"Close\"]).map(lambda x: float(Decimal(str(x)).quantize(Decimal(\"0.1\"),rounding=ROUND_HALF_UP)))\n",
    "    df = df.sort_values(\"Date\")\n",
    "    df.loc[df[\"adjusted_close\"]==0,\"adjusted_close\"] = np.nan\n",
    "    df.loc[:,\"adjusted_close\"] = df.loc[:,\"adjusted_close\"].ffill()\n",
    "    return df"
   ]
  },
  {
   "cell_type": "code",
   "execution_count": 5,
   "id": "1abd3dc8",
   "metadata": {},
   "outputs": [],
   "source": [
    "\n",
    "def calc_spread_return_sharpe(df: pd.DataFrame, portfolio_size: int = 200, toprank_weight_ratio: float = 2) -> float:\n",
    "    \"\"\"\n",
    "    Args:\n",
    "        df (pd.DataFrame): predicted results\n",
    "        portfolio_size (int): # of equities to buy/sell\n",
    "        toprank_weight_ratio (float): the relative weight of the most highly ranked stock compared to the least.\n",
    "    Returns:\n",
    "        (float): sharpe ratio\n",
    "    \"\"\"\n",
    "    def _calc_spread_return_per_day(df, portfolio_size, toprank_weight_ratio):\n",
    "        \"\"\"\n",
    "        Args:\n",
    "            df (pd.DataFrame): predicted results\n",
    "            portfolio_size (int): # of equities to buy/sell\n",
    "            toprank_weight_ratio (float): the relative weight of the most highly ranked stock compared to the least.\n",
    "        Returns:\n",
    "            (float): spread return\n",
    "        \"\"\"\n",
    "        assert df['Rank'].min() == 0\n",
    "        assert df['Rank'].max() == len(df['Rank']) - 1\n",
    "        weights = np.linspace(start=toprank_weight_ratio, stop=1, num=portfolio_size)\n",
    "        #Target is the rate of change \n",
    "        purchase = (df.sort_values(by='Rank')['Target'][:portfolio_size] * weights).sum() / weights.mean()\n",
    "        short = (df.sort_values(by='Rank', ascending=False)['Target'][:portfolio_size] * weights).sum() / weights.mean()\n",
    "        return purchase - short\n",
    "\n",
    "    buf = df.groupby('Date').apply(_calc_spread_return_per_day, portfolio_size, toprank_weight_ratio)\n",
    "    buf.plot()\n",
    "    sharpe_ratio = buf.mean() / buf.std()\n",
    "    return sharpe_ratio"
   ]
  },
  {
   "cell_type": "code",
   "execution_count": 6,
   "id": "0b560214",
   "metadata": {},
   "outputs": [],
   "source": [
    "def create_features(df, t, selection):\n",
    "    df = df.copy()\n",
    "    df[\"Date\"] = pd.to_datetime(df[\"Date\"])\n",
    "    df = df.drop([\"RowId\"],axis=1)\n",
    "    df = df[df[\"Date\"]!=\"2020-10-01\"]\n",
    "    df = df.groupby(\"SecuritiesCode\").apply(calc_adjusted_close).reset_index(drop=True).sort_values([\"Date\",\"SecuritiesCode\"]).reset_index(drop=True)\n",
    "    df[\"previous_adjusted_close\"] = df.groupby(\"SecuritiesCode\")[\"adjusted_close\"].shift(1)\n",
    "    df[\"daily_return\"] = (df[\"adjusted_close\"]/df[\"previous_adjusted_close\"]) - 1\n",
    "    df[\"last_30_adjusted_close\"] = (df.groupby(\"SecuritiesCode\")[\"adjusted_close\"].shift(1+t))\n",
    "    df[\"cummulative_return\"] = (df[\"previous_adjusted_close\"]/df[\"last_30_adjusted_close\"]) - 1\n",
    "    df[\"mean_daily_return\"] = 1/t * (df.groupby(\"SecuritiesCode\")[\"daily_return\"].transform(lambda x: x.rolling(t).sum()))\n",
    "    df[\"difference_from_mean\"] = np.power(df[\"daily_return\"]-df[\"mean_daily_return\"],2)\n",
    "    df[\"daily_volatility\"] = (1/(t-1)) * (df.groupby(\"SecuritiesCode\")['difference_from_mean'].transform(lambda x: x.rolling(t).sum()))\n",
    "    df[\"risk_adjusted_mean_return\"] = df[\"mean_daily_return\"]/np.sqrt(df[\"daily_volatility\"])\n",
    "    if(selection=='risk'):\n",
    "        df = df.dropna(subset=[\"risk_adjusted_mean_return\"])\n",
    "        df[\"Rank\"]=df.groupby('Date')[\"risk_adjusted_mean_return\"].rank(method='first')-1\n",
    "    elif(selection=='cum'):\n",
    "        df = df.dropna(subset=[\"cummulative_return\"])\n",
    "        df[\"Rank\"]=df.groupby('Date')[\"cummulative_return\"].rank(method='first')-1\n",
    "    else:\n",
    "        df = df.dropna(subset=[\"mean_daily_return\"])\n",
    "        df[\"Rank\"]=df.groupby('Date')[\"mean_daily_return\"].rank(method='first')-1\n",
    "    return df"
   ]
  },
  {
   "cell_type": "code",
   "execution_count": 9,
   "id": "a6435f17",
   "metadata": {},
   "outputs": [],
   "source": [
    "risk_sup = create_features(supplemental_stock_prices, 30,'risk')"
   ]
  },
  {
   "cell_type": "code",
   "execution_count": 10,
   "id": "e8983c63",
   "metadata": {},
   "outputs": [
    {
     "data": {
      "text/plain": [
       "0.3243052772321451"
      ]
     },
     "execution_count": 10,
     "metadata": {},
     "output_type": "execute_result"
    },
    {
     "data": {
      "image/png": "[encoded data removed]",
      "text/plain": [
       "<Figure size 432x288 with 1 Axes>"
      ]
     },
     "metadata": {
      "needs_background": "light"
     },
     "output_type": "display_data"
    }
   ],
   "source": [
    "(calc_spread_return_sharpe(risk_sup))\n"
   ]
  }
 ],
 "metadata": {
  "kernelspec": {
   "display_name": "Python 3",
   "language": "python",
   "name": "python3"
  },
  "language_info": {
   "codemirror_mode": {
    "name": "ipython",
    "version": 3
   },
   "file_extension": ".py",
   "mimetype": "text/x-python",
   "name": "python",
   "nbconvert_exporter": "python",
   "pygments_lexer": "ipython3",
   "version": "3.8.8"
  }
 },
 "nbformat": 4,
 "nbformat_minor": 5
}
