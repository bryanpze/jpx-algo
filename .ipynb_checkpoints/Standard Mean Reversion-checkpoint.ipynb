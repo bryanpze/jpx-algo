{
 "cells": [
  {
   "cell_type": "code",
   "execution_count": 3,
   "id": "3194f1e4",
   "metadata": {
    "_cell_guid": "b1076dfc-b9ad-4769-8c92-a6c4dae69d19",
    "_uuid": "8f2839f25d086af736a60e9eeb907d3b93b6e0e5",
    "execution": {
     "iopub.execute_input": "2022-06-01T12:27:05.464991Z",
     "iopub.status.busy": "2022-06-01T12:27:05.464310Z",
     "iopub.status.idle": "2022-06-01T12:27:05.501724Z",
     "shell.execute_reply": "2022-06-01T12:27:05.500793Z"
    },
    "papermill": {
     "duration": 0.047655,
     "end_time": "2022-06-01T12:27:05.504596",
     "exception": false,
     "start_time": "2022-06-01T12:27:05.456941",
     "status": "completed"
    },
    "tags": []
   },
   "outputs": [],
   "source": [
    "import numpy \n",
    "import pandas as pd"
   ]
  },
  {
   "cell_type": "code",
   "execution_count": 4,
   "id": "a2830ba4",
   "metadata": {
    "execution": {
     "iopub.execute_input": "2022-06-01T12:27:05.514757Z",
     "iopub.status.busy": "2022-06-01T12:27:05.513673Z",
     "iopub.status.idle": "2022-06-01T12:27:12.705558Z",
     "shell.execute_reply": "2022-06-01T12:27:12.704568Z"
    },
    "papermill": {
     "duration": 7.199661,
     "end_time": "2022-06-01T12:27:12.708292",
     "exception": false,
     "start_time": "2022-06-01T12:27:05.508631",
     "status": "completed"
    },
    "tags": []
   },
   "outputs": [],
   "source": [
    "supplemental_stock_prices = pd.read_csv('ds/supplemental_files/stock_prices.csv')\n",
    "train_stock_prices = pd.read_csv('ds/train_files/stock_prices.csv')\n",
    "test_stock_prices = pd.read_csv('ds/example_test_files/stock_prices.csv')"
   ]
  },
  {
   "cell_type": "code",
   "execution_count": 5,
   "id": "e5e597de",
   "metadata": {
    "execution": {
     "iopub.execute_input": "2022-06-01T12:27:12.715453Z",
     "iopub.status.busy": "2022-06-01T12:27:12.714921Z",
     "iopub.status.idle": "2022-06-01T12:27:12.718996Z",
     "shell.execute_reply": "2022-06-01T12:27:12.718406Z"
    },
    "papermill": {
     "duration": 0.009604,
     "end_time": "2022-06-01T12:27:12.720826",
     "exception": false,
     "start_time": "2022-06-01T12:27:12.711222",
     "status": "completed"
    },
    "tags": []
   },
   "outputs": [],
   "source": [
    "def calc_rate_of_change(current_value,old_value):\n",
    "    return ((current_value - old_value)/old_value)"
   ]
  },
  {
   "cell_type": "code",
   "execution_count": 6,
   "id": "96e1c867",
   "metadata": {
    "execution": {
     "iopub.execute_input": "2022-06-01T12:27:12.727806Z",
     "iopub.status.busy": "2022-06-01T12:27:12.727239Z",
     "iopub.status.idle": "2022-06-01T12:27:12.746978Z",
     "shell.execute_reply": "2022-06-01T12:27:12.746126Z"
    },
    "papermill": {
     "duration": 0.025546,
     "end_time": "2022-06-01T12:27:12.749087",
     "exception": false,
     "start_time": "2022-06-01T12:27:12.723541",
     "status": "completed"
    },
    "tags": []
   },
   "outputs": [],
   "source": [
    "def create_base_long_short(prices):\n",
    "    if(prices == \"train\"):\n",
    "        model =  train_stock_prices.copy()\n",
    "        model[\"daily_return\"] = (model[\"Close\"]-model[\"Open\"])/model[\"Open\"]\n",
    "        #Open high low close not available\n",
    "        model=model[model[\"Date\"]!=\"2020-10-01\"]\n",
    "        model[\"daily_return\"] = model.groupby([\"Date\"])[\"daily_return\"].apply(lambda x: x.fillna(x.mean()))\n",
    "        model[\"Previous Daily Return\"] =model.groupby([\"SecuritiesCode\"])[\"daily_return\"].shift(1)\n",
    "        model[\"Previous Daily Return\"] =model.groupby([\"SecuritiesCode\"])[\"Previous Daily Return\"].apply(lambda x: x.fillna(x.mean()))\n",
    "        model[\"Rank\"] = model.groupby([\"Date\"])[\"Previous Daily Return\"].rank(method=\"first\")-1\n",
    "        #Remove first day since no previous daily returns\n",
    "        model = model[model[\"Date\"]!=\"2017-01-04\"]\n",
    "        model = model.sort_values([\"Date\",\"Rank\"]).reset_index(drop=True)\n",
    "        return model\n",
    "    elif(prices==\"supplemental\"):\n",
    "        model =  pd.concat([train_stock_prices[train_stock_prices[\"Date\"]==\"2021-12-03\"].copy(),supplemental_stock_prices.copy()])\n",
    "        model[\"daily_return\"] = (model[\"Close\"]-model[\"Open\"])/model[\"Open\"]\n",
    "        #Open high low close not available\n",
    "        model[\"daily_return\"] = model.groupby([\"Date\"])[\"daily_return\"].apply(lambda x: x.fillna(x.mean()))\n",
    "        model[\"Previous Daily Return\"] =model.groupby([\"SecuritiesCode\"])[\"daily_return\"].shift(1)\n",
    "        model[\"Rank\"] = model.groupby([\"Date\"])[\"Previous Daily Return\"].rank(method=\"first\")-1\n",
    "        #Remove first day since no previous daily returns\n",
    "        model = model[model[\"Date\"]!=\"2021-12-03\"]\n",
    "        model = model.sort_values([\"Date\",\"Rank\"]).reset_index(drop=True)\n",
    "        return model\n",
    "    else:\n",
    "        model = pd.concat([train_stock_prices[train_stock_prices[\"Date\"]==\"2021-12-03\"].copy(),test_stock_prices.copy()])\n",
    "        model[\"daily_return\"] = (model[\"Close\"]-model[\"Open\"])/model[\"Open\"]\n",
    "        model[\"Closing Price after 1 day\"] = model[\"Close\"].shift(-1)\n",
    "        model[\"Closing Price after 2 days\"] = model[\"Close\"].shift(-2)\n",
    "        model[\"Target\"] = model.apply( lambda x: calc_rate_of_change(x[\"Closing Price after 2 days\"],x[\"Closing Price after 1 day\"]),axis=1)\n",
    "        model[\"daily_return\"] = (model[\"Close\"]-model[\"Open\"])/model[\"Open\"]\n",
    "        #Open high low close not available\n",
    "        model[\"daily_return\"] = model.groupby([\"Date\"])[\"daily_return\"].apply(lambda x: x.fillna(x.mean()))\n",
    "        model[\"Previous Daily Return\"] =model.groupby([\"SecuritiesCode\"])[\"daily_return\"].shift(1)\n",
    "        model[\"Rank\"] = model.groupby([\"Date\"])[\"Previous Daily Return\"].rank(method=\"first\")-1\n",
    "        #Remove first day since no previous daily returns\n",
    "        model = model[model[\"Date\"]!=\"2021-12-03\"]\n",
    "        model = model.sort_values([\"Date\",\"Rank\"]).reset_index(drop=True)\n",
    "        return model"
   ]
  },
  {
   "cell_type": "code",
   "execution_count": 7,
   "id": "fafeb19f",
   "metadata": {
    "execution": {
     "iopub.execute_input": "2022-06-01T12:27:12.756165Z",
     "iopub.status.busy": "2022-06-01T12:27:12.755544Z",
     "iopub.status.idle": "2022-06-01T12:27:13.501304Z",
     "shell.execute_reply": "2022-06-01T12:27:13.500368Z"
    },
    "papermill": {
     "duration": 0.751786,
     "end_time": "2022-06-01T12:27:13.503681",
     "exception": false,
     "start_time": "2022-06-01T12:27:12.751895",
     "status": "completed"
    },
    "tags": []
   },
   "outputs": [],
   "source": [
    "standard = create_base_long_short(\"supplemental\")\n",
    "standard = standard.set_index([\"Date\",\"SecuritiesCode\"])\n",
    "standard[\"Rank\"] = standard[\"Rank\"].astype(\"int\")\n"
   ]
  },
  {
   "cell_type": "code",
   "execution_count": null,
   "id": "739e450b",
   "metadata": {},
   "outputs": [],
   "source": [
    "sta"
   ]
  },
  {
   "cell_type": "code",
   "execution_count": 6,
   "id": "12b35470",
   "metadata": {
    "execution": {
     "iopub.execute_input": "2022-06-01T12:27:13.513423Z",
     "iopub.status.busy": "2022-06-01T12:27:13.512928Z",
     "iopub.status.idle": "2022-06-01T12:27:14.636494Z",
     "shell.execute_reply": "2022-06-01T12:27:14.635559Z"
    },
    "papermill": {
     "duration": 1.132355,
     "end_time": "2022-06-01T12:27:14.638891",
     "exception": false,
     "start_time": "2022-06-01T12:27:13.506536",
     "status": "completed"
    },
    "tags": []
   },
   "outputs": [
    {
     "name": "stdout",
     "output_type": "stream",
     "text": [
      "This version of the API is not optimized and should not be used to estimate the runtime of your code on the hidden test set.\n"
     ]
    }
   ],
   "source": [
    "for (prices, options, financials, trades, secondary_prices, sample_prediction) in iter_test:\n",
    "    sample_prediction[\"Rank\"]=sample_prediction.apply(lambda x: standard.loc[(x[\"Date\"],x[\"SecuritiesCode\"])][\"Rank\"] , axis=1)\n",
    "    env.predict(sample_prediction)"
   ]
  }
 ],
 "metadata": {
  "kernelspec": {
   "display_name": "Python 3 (ipykernel)",
   "language": "python",
   "name": "python3"
  },
  "language_info": {
   "codemirror_mode": {
    "name": "ipython",
    "version": 3
   },
   "file_extension": ".py",
   "mimetype": "text/x-python",
   "name": "python",
   "nbconvert_exporter": "python",
   "pygments_lexer": "ipython3",
   "version": "3.9.12"
  },
  "papermill": {
   "default_parameters": {},
   "duration": 19.789184,
   "end_time": "2022-06-01T12:27:15.362737",
   "environment_variables": {},
   "exception": null,
   "input_path": "__notebook__.ipynb",
   "output_path": "__notebook__.ipynb",
   "parameters": {},
   "start_time": "2022-06-01T12:26:55.573553",
   "version": "2.3.4"
  }
 },
 "nbformat": 4,
 "nbformat_minor": 5
}
