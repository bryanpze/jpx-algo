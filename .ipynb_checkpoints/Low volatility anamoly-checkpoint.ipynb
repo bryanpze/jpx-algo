{
 "cells": [
  {
   "cell_type": "markdown",
   "id": "23d615ea",
   "metadata": {},
   "source": [
    "# Earnings momentum\n",
    "## Similar to price momentum, but using unexpected earnings as selection criteria\n",
    "\n",
    "$$SUE_{i} = \\frac{E_{i} - E_{i}^{'}}{\\sigma{i}}$$\n",
    "\\\n",
    "$E_{i}$ is most recent quarterly earnings per share of stock i,$E_{i}^{'}$ is the earnings per share announced 4 quarters ago\n",
    "$\\sigma_{i}$ is the standard deviation of earnings over last 8 quarters"
   ]
  },
  {
   "cell_type": "code",
   "execution_count": 1,
   "id": "d9329029",
   "metadata": {},
   "outputs": [],
   "source": [
    "import pandas as pd\n",
    "import numpy as np\n",
    "import matplotlib.pyplot as plt\n",
    "pd.set_option('display.max_colwidth', None)\n",
    "from decimal import ROUND_HALF_UP, Decimal\n",
    "from statsmodels.api import OLS\n",
    "import random\n",
    "import statsmodels.api as sm\n"
   ]
  },
  {
   "cell_type": "code",
   "execution_count": 2,
   "id": "39a4d7ef",
   "metadata": {},
   "outputs": [],
   "source": [
    "train_stock_prices = pd.read_csv('ds/train_files/stock_prices.csv')\n",
    "supplemental_stock_prices = pd.read_csv('ds/supplemental_files/stock_prices.csv')\n",
    "data_stock_prices = pd.concat([train_stock_prices,supplemental_stock_prices],ignore_index=True)"
   ]
  },
  {
   "cell_type": "code",
   "execution_count": 3,
   "id": "f08c3066",
   "metadata": {},
   "outputs": [],
   "source": [
    "train_financials = pd.read_csv('ds/train_files/financials.csv',low_memory=False)\n",
    "train_financials[\"Date\"] = pd.to_datetime(train_financials[\"Date\"])\n",
    "train_financials[\"EarningsPerShare\"] = pd.to_numeric(train_financials[\"EarningsPerShare\"],errors='coerce')\n",
    "supplemental_financials = pd.read_csv('ds/supplemental_files/financials.csv')\n",
    "supplemental_financials[\"Date\"] = pd.to_datetime(supplemental_financials[\"Date\"])\n",
    "supplemental_financials[\"EarningsPerShare\"] = pd.to_numeric(train_financials[\"EarningsPerShare\"],errors='coerce')"
   ]
  },
  {
   "cell_type": "code",
   "execution_count": 4,
   "id": "ca8e3626",
   "metadata": {},
   "outputs": [],
   "source": [
    "train_financials[\"QuarterEarningsPerShare\"] = train_financials[(train_financials[\"TypeOfDocument\"].isin([\"1QFinancialStatements_Consolidated_JP\",\"2QFinancialStatements_Consolidated_JP\",\"3QFinancialStatements_Consolidated_JP\",\"FYFinancialStatements_Consolidated_JP\",\"1QFinancialStatements_NonConsolidated_JP\",\"2QFinancialStatements_NonConsolidated_JP\",\"3QFinancialStatements_NonConsolidated_JP\",\"FYFinancialStatements_NonConsolidated_JP\",\"1QFinancialStatements_Consolidated_IFRS\",\"2QFinancialStatements_Consolidated_IFRS\",\"3QFinancialStatements_Consolidated_IFRS\",\"FYFinancialStatements_Consolidated_IFRS\",\"1QFinancialStatements_NonConsolidated_IFRS\",\"2QFinancialStatements_NonConsolidated_IFRS\",\"3QFinancialStatements_NonConsolidated_IFRS\",\"FYFinancialStatements_NonConsolidated_IFRS\",\"1QFinancialStatements_Consolidated_US\",\"2QFinancialStatements_Consolidated_US\",\"3QFinancialStatements_Consolidated_US\",\"FYFinancialStatements_Consolidated_US\",\"1QFinancialStatements_NonConsolidated_US\",\"2QFinancialStatements_NonConsolidated_US\",\"3QFinancialStatements_NonConsolidated_US\",\"FYFinancialStatements_NonConsolidated_US\"]))].groupby(\"SecuritiesCode\")[\"EarningsPerShare\"].diff()\n",
    "train_financials.loc[train_financials[\"TypeOfCurrentPeriod\"]==\"1Q\",\"QuarterEarningsPerShare\"] = train_financials[\"EarningsPerShare\"]\n",
    "supplemental_financials[\"QuarterEarningsPerShare\"] = supplemental_financials[(supplemental_financials[\"TypeOfDocument\"].isin([\"1QFinancialStatements_Consolidated_JP\",\"2QFinancialStatements_Consolidated_JP\",\"3QFinancialStatements_Consolidated_JP\",\"FYFinancialStatements_Consolidated_JP\",\"1QFinancialStatements_NonConsolidated_JP\",\"2QFinancialStatements_NonConsolidated_JP\",\"3QFinancialStatements_NonConsolidated_JP\",\"FYFinancialStatements_NonConsolidated_JP\",\"1QFinancialStatements_Consolidated_IFRS\",\"2QFinancialStatements_Consolidated_IFRS\",\"3QFinancialStatements_Consolidated_IFRS\",\"FYFinancialStatements_Consolidated_IFRS\",\"1QFinancialStatements_NonConsolidated_IFRS\",\"2QFinancialStatements_NonConsolidated_IFRS\",\"3QFinancialStatements_NonConsolidated_IFRS\",\"FYFinancialStatements_NonConsolidated_IFRS\",\"1QFinancialStatements_Consolidated_US\",\"2QFinancialStatements_Consolidated_US\",\"3QFinancialStatements_Consolidated_US\",\"FYFinancialStatements_Consolidated_US\",\"1QFinancialStatements_NonConsolidated_US\",\"2QFinancialStatements_NonConsolidated_US\",\"3QFinancialStatements_NonConsolidated_US\",\"FYFinancialStatements_NonConsolidated_US\"]))].groupby(\"SecuritiesCode\")[\"EarningsPerShare\"].diff()\n",
    "supplemental_financials.loc[supplemental_financials[\"TypeOfCurrentPeriod\"]==\"1Q\",\"QuarterEarningsPerShare\"] = supplemental_financials[\"EarningsPerShare\"]"
   ]
  },
  {
   "cell_type": "code",
   "execution_count": 5,
   "id": "30503187",
   "metadata": {},
   "outputs": [],
   "source": [
    "train_financials[\"QuarterEarningsPerShareFour\"] = train_financials[(train_financials[\"TypeOfDocument\"].isin([\"1QFinancialStatements_Consolidated_JP\",\"2QFinancialStatements_Consolidated_JP\",\"3QFinancialStatements_Consolidated_JP\",\"FYFinancialStatements_Consolidated_JP\",\"1QFinancialStatements_NonConsolidated_JP\",\"2QFinancialStatements_NonConsolidated_JP\",\"3QFinancialStatements_NonConsolidated_JP\",\"FYFinancialStatements_NonConsolidated_JP\",\"1QFinancialStatements_Consolidated_IFRS\",\"2QFinancialStatements_Consolidated_IFRS\",\"3QFinancialStatements_Consolidated_IFRS\",\"FYFinancialStatements_Consolidated_IFRS\",\"1QFinancialStatements_NonConsolidated_IFRS\",\"2QFinancialStatements_NonConsolidated_IFRS\",\"3QFinancialStatements_NonConsolidated_IFRS\",\"FYFinancialStatements_NonConsolidated_IFRS\",\"1QFinancialStatements_Consolidated_US\",\"2QFinancialStatements_Consolidated_US\",\"3QFinancialStatements_Consolidated_US\",\"FYFinancialStatements_Consolidated_US\",\"1QFinancialStatements_NonConsolidated_US\",\"2QFinancialStatements_NonConsolidated_US\",\"3QFinancialStatements_NonConsolidated_US\",\"FYFinancialStatements_NonConsolidated_US\"]))].groupby([\"SecuritiesCode\"])[\"QuarterEarningsPerShare\"].shift(4)\n",
    "supplemental_financials[\"QuarterEarningsPerShareFour\"] = supplemental_financials[(supplemental_financials[\"TypeOfDocument\"].isin([\"1QFinancialStatements_Consolidated_JP\",\"2QFinancialStatements_Consolidated_JP\",\"3QFinancialStatements_Consolidated_JP\",\"FYFinancialStatements_Consolidated_JP\",\"1QFinancialStatements_NonConsolidated_JP\",\"2QFinancialStatements_NonConsolidated_JP\",\"3QFinancialStatements_NonConsolidated_JP\",\"FYFinancialStatements_NonConsolidated_JP\",\"1QFinancialStatements_Consolidated_IFRS\",\"2QFinancialStatements_Consolidated_IFRS\",\"3QFinancialStatements_Consolidated_IFRS\",\"FYFinancialStatements_Consolidated_IFRS\",\"1QFinancialStatements_NonConsolidated_IFRS\",\"2QFinancialStatements_NonConsolidated_IFRS\",\"3QFinancialStatements_NonConsolidated_IFRS\",\"FYFinancialStatements_NonConsolidated_IFRS\",\"1QFinancialStatements_Consolidated_US\",\"2QFinancialStatements_Consolidated_US\",\"3QFinancialStatements_Consolidated_US\",\"FYFinancialStatements_Consolidated_US\",\"1QFinancialStatements_NonConsolidated_US\",\"2QFinancialStatements_NonConsolidated_US\",\"3QFinancialStatements_NonConsolidated_US\",\"FYFinancialStatements_NonConsolidated_US\"]))].groupby([\"SecuritiesCode\"])[\"QuarterEarningsPerShare\"].shift(4)\n",
    "train_financials['QuarterEarningsStd'] = train_financials[(train_financials[\"TypeOfDocument\"].isin([\"1QFinancialStatements_Consolidated_JP\",\"2QFinancialStatements_Consolidated_JP\",\"3QFinancialStatements_Consolidated_JP\",\"FYFinancialStatements_Consolidated_JP\",\"1QFinancialStatements_NonConsolidated_JP\",\"2QFinancialStatements_NonConsolidated_JP\",\"3QFinancialStatements_NonConsolidated_JP\",\"FYFinancialStatements_NonConsolidated_JP\",\"1QFinancialStatements_Consolidated_IFRS\",\"2QFinancialStatements_Consolidated_IFRS\",\"3QFinancialStatements_Consolidated_IFRS\",\"FYFinancialStatements_Consolidated_IFRS\",\"1QFinancialStatements_NonConsolidated_IFRS\",\"2QFinancialStatements_NonConsolidated_IFRS\",\"3QFinancialStatements_NonConsolidated_IFRS\",\"FYFinancialStatements_NonConsolidated_IFRS\",\"1QFinancialStatements_Consolidated_US\",\"2QFinancialStatements_Consolidated_US\",\"3QFinancialStatements_Consolidated_US\",\"FYFinancialStatements_Consolidated_US\",\"1QFinancialStatements_NonConsolidated_US\",\"2QFinancialStatements_NonConsolidated_US\",\"3QFinancialStatements_NonConsolidated_US\",\"FYFinancialStatements_NonConsolidated_US\"]))].groupby(\"SecuritiesCode\")[\"QuarterEarningsPerShare\"].rolling(8,1).std().reset_index(0,drop=True)\n",
    "supplemental_financials['QuarterEarningsStd'] = supplemental_financials[(supplemental_financials[\"TypeOfDocument\"].isin([\"1QFinancialStatements_Consolidated_JP\",\"2QFinancialStatements_Consolidated_JP\",\"3QFinancialStatements_Consolidated_JP\",\"FYFinancialStatements_Consolidated_JP\",\"1QFinancialStatements_NonConsolidated_JP\",\"2QFinancialStatements_NonConsolidated_JP\",\"3QFinancialStatements_NonConsolidated_JP\",\"FYFinancialStatements_NonConsolidated_JP\",\"1QFinancialStatements_Consolidated_IFRS\",\"2QFinancialStatements_Consolidated_IFRS\",\"3QFinancialStatements_Consolidated_IFRS\",\"FYFinancialStatements_Consolidated_IFRS\",\"1QFinancialStatements_NonConsolidated_IFRS\",\"2QFinancialStatements_NonConsolidated_IFRS\",\"3QFinancialStatements_NonConsolidated_IFRS\",\"FYFinancialStatements_NonConsolidated_IFRS\",\"1QFinancialStatements_Consolidated_US\",\"2QFinancialStatements_Consolidated_US\",\"3QFinancialStatements_Consolidated_US\",\"FYFinancialStatements_Consolidated_US\",\"1QFinancialStatements_NonConsolidated_US\",\"2QFinancialStatements_NonConsolidated_US\",\"3QFinancialStatements_NonConsolidated_US\",\"FYFinancialStatements_NonConsolidated_US\"]))].groupby(\"SecuritiesCode\")[\"QuarterEarningsPerShare\"].rolling(8,1).std().reset_index(0,drop=True)"
   ]
  },
  {
   "cell_type": "code",
   "execution_count": 6,
   "id": "109b5eaf",
   "metadata": {},
   "outputs": [],
   "source": [
    "def calc_adjusted_close(df):\n",
    "    df = df.sort_values(\"Date\",ascending=False)\n",
    "    df.loc[:,\"cummulative_adjustment_factor\"] = df[\"AdjustmentFactor\"].cumprod()\n",
    "    df.loc[:,\"adjusted_close\"] = (df[\"cummulative_adjustment_factor\"]*df[\"Close\"]).map(lambda x: float(Decimal(str(x)).quantize(Decimal(\"0.1\"),rounding=ROUND_HALF_UP)))\n",
    "    df = df.sort_values(\"Date\")\n",
    "    df.loc[df[\"adjusted_close\"]==0,\"adjusted_close\"] = np.nan\n",
    "    df.loc[:,\"adjusted_close\"] = df.loc[:,\"adjusted_close\"].ffill()\n",
    "    return df"
   ]
  },
  {
   "cell_type": "code",
   "execution_count": 7,
   "id": "24180ec0",
   "metadata": {},
   "outputs": [],
   "source": [
    "\n",
    "def calc_spread_return_sharpe(df: pd.DataFrame, portfolio_size: int = 200, toprank_weight_ratio: float = 2) -> float:\n",
    "    \"\"\"\n",
    "    Args:\n",
    "        df (pd.DataFrame): predicted results\n",
    "        portfolio_size (int): # of equities to buy/sell\n",
    "        toprank_weight_ratio (float): the relative weight of the most highly ranked stock compared to the least.\n",
    "    Returns:\n",
    "        (float): sharpe ratio\n",
    "    \"\"\"\n",
    "    def _calc_spread_return_per_day(df, portfolio_size, toprank_weight_ratio):\n",
    "        \"\"\"\n",
    "        Args:\n",
    "            df (pd.DataFrame): predicted results\n",
    "            portfolio_size (int): # of equities to buy/sell\n",
    "            toprank_weight_ratio (float): the relative weight of the most highly ranked stock compared to the least.\n",
    "        Returns:\n",
    "            (float): spread return\n",
    "        \"\"\"\n",
    "        assert df['Rank'].min() == 0\n",
    "        assert df['Rank'].max() == len(df['Rank']) - 1\n",
    "        weights = np.linspace(start=toprank_weight_ratio, stop=1, num=portfolio_size)\n",
    "        #Target is the rate of change \n",
    "        purchase = (df.sort_values(by='Rank')['Target'][:portfolio_size] * weights).sum() / weights.mean()\n",
    "        short = (df.sort_values(by='Rank', ascending=False)['Target'][:portfolio_size] * weights).sum() / weights.mean()\n",
    "        return purchase - short\n",
    "\n",
    "    buf = df.groupby('Date').apply(_calc_spread_return_per_day, portfolio_size, toprank_weight_ratio)\n",
    "    sharpe_ratio = buf.mean() / buf.std()\n",
    "    return sharpe_ratio"
   ]
  },
  {
   "cell_type": "code",
   "execution_count": 21,
   "id": "ac8a338a",
   "metadata": {},
   "outputs": [],
   "source": [
    "def create_features(df):\n",
    "    df = df.copy()\n",
    "    df[\"Date\"] = pd.to_datetime(df[\"Date\"])\n",
    "    df = df.drop([\"RowId\"],axis=1)\n",
    "    df = df[df[\"Date\"]!=\"2020-10-01\"]\n",
    "    df = df.groupby(\"SecuritiesCode\").apply(calc_adjusted_close).reset_index(drop=True).sort_values([\"Date\",\"SecuritiesCode\"]).reset_index(drop=True)\n",
    "    df = df.join(train_financials[[\"Date\",\"SecuritiesCode\",\"QuarterEarningsPerShare\",\"QuarterEarningsPerShareFour\",\"QuarterEarningsStd\"]].set_index([\"Date\",\"SecuritiesCode\"]),on=[\"Date\",\"SecuritiesCode\"])\n",
    "    df[\"standardised_unexpected_earnings\"] = (df[\"QuarterEarningsPerShare\"] - df[\"QuarterEarningsPerShareFour\"])/df[\"QuarterEarningsStd\"]\n",
    "    df[\"standardised_unexpected_earnings\"] = df.groupby([\"SecuritiesCode\"])[\"standardised_unexpected_earnings\"].ffill()\n",
    "    df = df.dropna(subset=[\"standardised_unexpected_earnings\"])\n",
    "    df[\"Rank\"]=df.groupby('Date')[\"standardised_unexpected_earnings\"].rank(method='first')-1\n",
    "    return df"
   ]
  },
  {
   "cell_type": "code",
   "execution_count": 24,
   "id": "2ffdc07b",
   "metadata": {},
   "outputs": [],
   "source": [
    "risk = create_features(train_stock_prices)\n"
   ]
  },
  {
   "cell_type": "code",
   "execution_count": 52,
   "id": "085b3a58",
   "metadata": {},
   "outputs": [
    {
     "data": {
      "text/plain": [
       "-0.04954281264785721"
      ]
     },
     "execution_count": 52,
     "metadata": {},
     "output_type": "execute_result"
    }
   ],
   "source": [
    "calc_spread_return_sharpe(risk[risk[\"Date\"]>\"2020\"])"
   ]
  },
  {
   "cell_type": "code",
   "execution_count": 54,
   "id": "2114a949",
   "metadata": {},
   "outputs": [
    {
     "data": {
      "text/plain": [
       "Index(['DisclosureNumber', 'DateCode', 'Date', 'SecuritiesCode',\n",
       "       'DisclosedDate', 'DisclosedTime', 'DisclosedUnixTime', 'TypeOfDocument',\n",
       "       'CurrentPeriodEndDate', 'TypeOfCurrentPeriod',\n",
       "       'CurrentFiscalYearStartDate', 'CurrentFiscalYearEndDate', 'NetSales',\n",
       "       'OperatingProfit', 'OrdinaryProfit', 'Profit', 'EarningsPerShare',\n",
       "       'TotalAssets', 'Equity', 'EquityToAssetRatio', 'BookValuePerShare',\n",
       "       'ResultDividendPerShare1stQuarter', 'ResultDividendPerShare2ndQuarter',\n",
       "       'ResultDividendPerShare3rdQuarter',\n",
       "       'ResultDividendPerShareFiscalYearEnd', 'ResultDividendPerShareAnnual',\n",
       "       'ForecastDividendPerShare1stQuarter',\n",
       "       'ForecastDividendPerShare2ndQuarter',\n",
       "       'ForecastDividendPerShare3rdQuarter',\n",
       "       'ForecastDividendPerShareFiscalYearEnd',\n",
       "       'ForecastDividendPerShareAnnual', 'ForecastNetSales',\n",
       "       'ForecastOperatingProfit', 'ForecastOrdinaryProfit', 'ForecastProfit',\n",
       "       'ForecastEarningsPerShare',\n",
       "       'ApplyingOfSpecificAccountingOfTheQuarterlyFinancialStatements',\n",
       "       'MaterialChangesInSubsidiaries',\n",
       "       'ChangesBasedOnRevisionsOfAccountingStandard',\n",
       "       'ChangesOtherThanOnesBasedOnRevisionsOfAccountingStandard',\n",
       "       'ChangesInAccountingEstimates', 'RetrospectiveRestatement',\n",
       "       'NumberOfIssuedAndOutstandingSharesAtTheEndOfFiscalYearIncludingTreasuryStock',\n",
       "       'NumberOfTreasuryStockAtTheEndOfFiscalYear', 'AverageNumberOfShares',\n",
       "       'QuarterEarningsPerShare', 'QuarterEarningsPerShareFour',\n",
       "       'QuarterEarningsStd'],\n",
       "      dtype='object')"
      ]
     },
     "execution_count": 54,
     "metadata": {},
     "output_type": "execute_result"
    }
   ],
   "source": [
    "train_financials.columns"
   ]
  }
 ],
 "metadata": {
  "kernelspec": {
   "display_name": "Python 3",
   "language": "python",
   "name": "python3"
  },
  "language_info": {
   "codemirror_mode": {
    "name": "ipython",
    "version": 3
   },
   "file_extension": ".py",
   "mimetype": "text/x-python",
   "name": "python",
   "nbconvert_exporter": "python",
   "pygments_lexer": "ipython3",
   "version": "3.8.8"
  }
 },
 "nbformat": 4,
 "nbformat_minor": 5
}
