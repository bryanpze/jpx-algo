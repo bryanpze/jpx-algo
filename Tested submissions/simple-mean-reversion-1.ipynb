{
 "cells": [
  {
   "cell_type": "code",
   "execution_count": null,
   "id": "a399eb8f",
   "metadata": {
    "papermill": {
     "duration": 0.003385,
     "end_time": "2022-10-31T02:17:07.077617",
     "exception": false,
     "start_time": "2022-10-31T02:17:07.074232",
     "status": "completed"
    },
    "tags": []
   },
   "outputs": [],
   "source": []
  },
  {
   "cell_type": "code",
   "execution_count": 1,
   "id": "219b9bff",
   "metadata": {
    "_cell_guid": "b1076dfc-b9ad-4769-8c92-a6c4dae69d19",
    "_uuid": "8f2839f25d086af736a60e9eeb907d3b93b6e0e5",
    "execution": {
     "iopub.execute_input": "2022-10-31T02:17:07.084331Z",
     "iopub.status.busy": "2022-10-31T02:17:07.083851Z",
     "iopub.status.idle": "2022-10-31T02:17:07.115596Z",
     "shell.execute_reply": "2022-10-31T02:17:07.114812Z"
    },
    "papermill": {
     "duration": 0.037787,
     "end_time": "2022-10-31T02:17:07.118025",
     "exception": false,
     "start_time": "2022-10-31T02:17:07.080238",
     "status": "completed"
    },
    "tags": []
   },
   "outputs": [],
   "source": [
    "import numpy as np\n",
    "import pandas as pd\n",
    "import jpx_tokyo_market_prediction\n",
    "from decimal import ROUND_HALF_UP, Decimal\n",
    "\n",
    "env = jpx_tokyo_market_prediction.make_env()\n",
    "iter_test = env.iter_test()\n",
    "path = \"../input/jpx-tokyo-stock-exchange-prediction\""
   ]
  },
  {
   "cell_type": "code",
   "execution_count": 2,
   "id": "af71a352",
   "metadata": {
    "execution": {
     "iopub.execute_input": "2022-10-31T02:17:07.124700Z",
     "iopub.status.busy": "2022-10-31T02:17:07.124176Z",
     "iopub.status.idle": "2022-10-31T02:17:13.711190Z",
     "shell.execute_reply": "2022-10-31T02:17:13.709868Z"
    },
    "papermill": {
     "duration": 6.593296,
     "end_time": "2022-10-31T02:17:13.713893",
     "exception": false,
     "start_time": "2022-10-31T02:17:07.120597",
     "status": "completed"
    },
    "tags": []
   },
   "outputs": [],
   "source": [
    "stock_list = pd.read_csv(path+'/stock_list.csv')\n",
    "train_stock_prices = pd.read_csv(path+'/train_files/stock_prices.csv')"
   ]
  },
  {
   "cell_type": "code",
   "execution_count": 3,
   "id": "b4fe7f4b",
   "metadata": {
    "execution": {
     "iopub.execute_input": "2022-10-31T02:17:13.721420Z",
     "iopub.status.busy": "2022-10-31T02:17:13.720146Z",
     "iopub.status.idle": "2022-10-31T02:17:13.727154Z",
     "shell.execute_reply": "2022-10-31T02:17:13.726032Z"
    },
    "papermill": {
     "duration": 0.012693,
     "end_time": "2022-10-31T02:17:13.729319",
     "exception": false,
     "start_time": "2022-10-31T02:17:13.716626",
     "status": "completed"
    },
    "tags": []
   },
   "outputs": [],
   "source": [
    "def clean_prices(df):\n",
    "    df = df.copy()\n",
    "    df = df.drop([\"RowId\"],axis=1)\n",
    "    df = df[df[\"Date\"]!=\"2020-10-01\"]\n",
    "    df[\"Close\"] = df.groupby(\"SecuritiesCode\")[\"Close\"].ffill()\n",
    "    df[\"ExpectedDividend\"] = df[\"ExpectedDividend\"].fillna(0)\n",
    "    return df"
   ]
  },
  {
   "cell_type": "code",
   "execution_count": 4,
   "id": "2b1a96f9",
   "metadata": {
    "execution": {
     "iopub.execute_input": "2022-10-31T02:17:13.735468Z",
     "iopub.status.busy": "2022-10-31T02:17:13.735141Z",
     "iopub.status.idle": "2022-10-31T02:17:13.742963Z",
     "shell.execute_reply": "2022-10-31T02:17:13.742012Z"
    },
    "papermill": {
     "duration": 0.013276,
     "end_time": "2022-10-31T02:17:13.745086",
     "exception": false,
     "start_time": "2022-10-31T02:17:13.731810",
     "status": "completed"
    },
    "tags": []
   },
   "outputs": [],
   "source": [
    "def clean_data(df,actual):\n",
    "    df = df.copy()\n",
    "    df = clean_prices(df)\n",
    "    df['daily_return'] = (df['Close']-df['Open'])/df['Open']\n",
    "    df[\"daily_return\"] = df.groupby([\"Date\"])[\"daily_return\"].apply(lambda x: x.fillna(x.mean()))\n",
    "    df[\"Previous Daily Return\"] =df.groupby([\"SecuritiesCode\"])[\"daily_return\"].shift(1)\n",
    "    df[\"Previous Daily Return\"] =df.groupby([\"SecuritiesCode\"])[\"Previous Daily Return\"].apply(lambda x: x.fillna(x.mean()))\n",
    "    df[\"Rank\"] = df.groupby([\"Date\"])[\"daily_return\"].rank(method='first')-1\n",
    "    if(actual=='yes'):\n",
    "        return df\n",
    "    else:\n",
    "        df = df.dropna(subset=[\"Rank\"])\n",
    "        return df"
   ]
  },
  {
   "cell_type": "code",
   "execution_count": 5,
   "id": "9517f6d2",
   "metadata": {
    "execution": {
     "iopub.execute_input": "2022-10-31T02:17:13.753904Z",
     "iopub.status.busy": "2022-10-31T02:17:13.753495Z",
     "iopub.status.idle": "2022-10-31T02:17:25.123027Z",
     "shell.execute_reply": "2022-10-31T02:17:25.122027Z"
    },
    "papermill": {
     "duration": 11.377981,
     "end_time": "2022-10-31T02:17:25.125669",
     "exception": false,
     "start_time": "2022-10-31T02:17:13.747688",
     "status": "completed"
    },
    "tags": []
   },
   "outputs": [
    {
     "name": "stdout",
     "output_type": "stream",
     "text": [
      "This version of the API is not optimized and should not be used to estimate the runtime of your code on the hidden test set.\n"
     ]
    }
   ],
   "source": [
    "for (prices, options, financials, trades, secondary_prices, sample_prediction) in iter_test:\n",
    "    train_stock_prices[\"Date\"] = pd.to_datetime(train_stock_prices[\"Date\"])\n",
    "    train_stock_prices = train_stock_prices[train_stock_prices[\"Date\"]>\"2020\"].reset_index(drop=True)\n",
    "    prices[\"Date\"] =  pd.to_datetime(prices[\"Date\"])\n",
    "    train_stock_prices = pd.concat([train_stock_prices,prices],ignore_index=True)\n",
    "    data = clean_data(train_stock_prices,'yes')\n",
    "    data = data.join(stock_list[[\"SecuritiesCode\",\"MarketCapitalization\"]].set_index(\"SecuritiesCode\"),on=\"SecuritiesCode\")\n",
    "    data[\"mkt_cap_rank\"] = data.groupby([\"Date\"])[\"MarketCapitalization\"].rank(method=\"first\")-1\n",
    "    data[\"is_not_small_cap\"] = data.groupby([\"Date\"])[\"mkt_cap_rank\"].apply(lambda x: ((x/x.max())>=0.3).astype(int))\n",
    "    data[\"above_median_small_cap_rank\"]=data.groupby([\"Date\"]).apply(lambda x: x[\"Rank\"]>x[x[\"is_not_small_cap\"]==0][\"Rank\"].median()).astype(int).values\n",
    "    data.loc[(data[\"above_median_small_cap_rank\"]==1)&(data[\"is_not_small_cap\"]==0),[\"is_not_small_cap\"]]=3\n",
    "    data = data.sort_values([\"Date\",'Rank',\"is_not_small_cap\"]).reset_index(drop=True)\n",
    "    data[\"Rank\"]=data.groupby([\"Date\"])[\"Rank\"].transform(lambda x: np.linspace(x.min(),x.max(),x.count()))\n",
    "    data = data.set_index([\"Date\",\"SecuritiesCode\"])\n",
    "    data[\"Rank\"] = data[\"Rank\"].astype(\"int\")\n",
    "\n",
    "    sample_prediction[\"Rank\"]=sample_prediction.apply(lambda x: data.loc[(x[\"Date\"],x[\"SecuritiesCode\"])][\"Rank\"] , axis=1)\n",
    "    env.predict(sample_prediction)"
   ]
  }
 ],
 "metadata": {
  "kernelspec": {
   "display_name": "Python 3",
   "language": "python",
   "name": "python3"
  },
  "language_info": {
   "codemirror_mode": {
    "name": "ipython",
    "version": 3
   },
   "file_extension": ".py",
   "mimetype": "text/x-python",
   "name": "python",
   "nbconvert_exporter": "python",
   "pygments_lexer": "ipython3",
   "version": "3.7.12"
  },
  "papermill": {
   "default_parameters": {},
   "duration": 28.51209,
   "end_time": "2022-10-31T02:17:25.850575",
   "environment_variables": {},
   "exception": null,
   "input_path": "__notebook__.ipynb",
   "output_path": "__notebook__.ipynb",
   "parameters": {},
   "start_time": "2022-10-31T02:16:57.338485",
   "version": "2.3.4"
  }
 },
 "nbformat": 4,
 "nbformat_minor": 5
}
