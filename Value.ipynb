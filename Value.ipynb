{
 "cells": [
  {
   "cell_type": "markdown",
   "id": "12db8bac",
   "metadata": {},
   "source": [
    "# Value\n",
    "## Selection criteria based on book to price ratio\n"
   ]
  },
  {
   "cell_type": "code",
   "execution_count": 1,
   "id": "36ae8b04",
   "metadata": {},
   "outputs": [],
   "source": [
    "import pandas as pd\n",
    "import numpy as np\n",
    "import matplotlib.pyplot as plt\n",
    "pd.set_option('display.max_colwidth', None)\n",
    "from decimal import ROUND_HALF_UP, Decimal\n",
    "from statsmodels.api import OLS\n",
    "import random\n",
    "import statsmodels.api as sm\n"
   ]
  },
  {
   "cell_type": "code",
   "execution_count": 2,
   "id": "bb525c6f",
   "metadata": {},
   "outputs": [],
   "source": [
    "train_stock_prices = pd.read_csv('ds/train_files/stock_prices.csv')\n",
    "supplemental_stock_prices = pd.read_csv('ds/supplemental_files/stock_prices.csv')\n",
    "data_stock_prices = pd.concat([train_stock_prices,supplemental_stock_prices],ignore_index=True)"
   ]
  },
  {
   "cell_type": "code",
   "execution_count": 3,
   "id": "492b4ac5",
   "metadata": {},
   "outputs": [],
   "source": [
    "train_financials = pd.read_csv('ds/train_files/financials.csv',low_memory=False)\n",
    "supplemental_financials = pd.read_csv('ds/supplemental_files/financials.csv')\n",
    "train_financials[\"Date\"] = pd.to_datetime(train_financials[\"Date\"])\n",
    "supplemental_financials[\"Date\"] = pd.to_datetime(supplemental_financials[\"Date\"])\n",
    "data_supplemental_financials = pd.concat([train_financials,supplemental_financials],ignore_index=True)"
   ]
  },
  {
   "cell_type": "code",
   "execution_count": 4,
   "id": "aee2b0c1",
   "metadata": {},
   "outputs": [],
   "source": [
    "train_financials[\"BookValuePerShare\"] = pd.to_numeric(train_financials[\"BookValuePerShare\"],errors='coerce')"
   ]
  },
  {
   "cell_type": "code",
   "execution_count": 5,
   "id": "59722855",
   "metadata": {},
   "outputs": [],
   "source": [
    "def calc_adjusted_close(df):\n",
    "    df = df.sort_values(\"Date\",ascending=False)\n",
    "    df.loc[:,\"cummulative_adjustment_factor\"] = df[\"AdjustmentFactor\"].cumprod()\n",
    "    df.loc[:,\"adjusted_close\"] = (df[\"cummulative_adjustment_factor\"]*df[\"Close\"]).map(lambda x: float(Decimal(str(x)).quantize(Decimal(\"0.1\"),rounding=ROUND_HALF_UP)))\n",
    "    df = df.sort_values(\"Date\")\n",
    "    df.loc[df[\"adjusted_close\"]==0,\"adjusted_close\"] = np.nan\n",
    "    df.loc[:,\"adjusted_close\"] = df.loc[:,\"adjusted_close\"].ffill()\n",
    "    return df"
   ]
  },
  {
   "cell_type": "code",
   "execution_count": 6,
   "id": "c5a09eb5",
   "metadata": {},
   "outputs": [],
   "source": [
    "def calc_spread_return_sharpe(df: pd.DataFrame, portfolio_size: int = 200, toprank_weight_ratio: float = 2) -> float:\n",
    "    \"\"\"\n",
    "    Args:\n",
    "        df (pd.DataFrame): predicted results\n",
    "        portfolio_size (int): # of equities to buy/sell\n",
    "        toprank_weight_ratio (float): the relative weight of the most highly ranked stock compared to the least.\n",
    "    Returns:\n",
    "        (float): sharpe ratio\n",
    "    \"\"\"\n",
    "    def _calc_spread_return_per_day(df, portfolio_size, toprank_weight_ratio):\n",
    "        \"\"\"\n",
    "        Args:\n",
    "            df (pd.DataFrame): predicted results\n",
    "            portfolio_size (int): # of equities to buy/sell\n",
    "            toprank_weight_ratio (float): the relative weight of the most highly ranked stock compared to the least.\n",
    "        Returns:\n",
    "            (float): spread return\n",
    "        \"\"\"\n",
    "        assert df['Rank'].min() == 0\n",
    "        assert df['Rank'].max() == len(df['Rank']) - 1\n",
    "        weights = np.linspace(start=toprank_weight_ratio, stop=1, num=portfolio_size)\n",
    "        #Target is the rate of change \n",
    "        purchase = (df.sort_values(by='Rank')['Target'][:portfolio_size] * weights).sum() / weights.mean()\n",
    "        short = (df.sort_values(by='Rank', ascending=False)['Target'][:portfolio_size] * weights).sum() / weights.mean()\n",
    "        return purchase - short\n",
    "\n",
    "    buf = df.groupby('Date').apply(_calc_spread_return_per_day, portfolio_size, toprank_weight_ratio)\n",
    "    buf.plot()\n",
    "    sharpe_ratio = buf.mean() / buf.std()\n",
    "    return sharpe_ratio"
   ]
  },
  {
   "cell_type": "code",
   "execution_count": 7,
   "id": "1887d9f9",
   "metadata": {},
   "outputs": [],
   "source": [
    "def create_features(df,fin):\n",
    "    df = df.copy()\n",
    "    df[\"Date\"] = pd.to_datetime(df[\"Date\"])\n",
    "    df = df.drop([\"RowId\"],axis=1)\n",
    "    df = df[df[\"Date\"]!=\"2020-10-01\"]\n",
    "    df = df.groupby(\"SecuritiesCode\").apply(calc_adjusted_close).reset_index(drop=True).sort_values([\"Date\",\"SecuritiesCode\"]).reset_index(drop=True)\n",
    "    fin = fin.copy()\n",
    "    fin[\"BookValuePerShare\"] = pd.to_numeric(fin[\"BookValuePerShare\"],errors='coerce')\n",
    "    df = df.join(fin[[\"Date\",\"SecuritiesCode\",\"BookValuePerShare\"]].set_index([\"Date\",\"SecuritiesCode\"]),on=[\"Date\",\"SecuritiesCode\"])\n",
    "    df[\"BookValuePerShare\"] = df.groupby([\"SecuritiesCode\"])[\"BookValuePerShare\"].ffill()\n",
    "    df[\"book_to_price\"] = df[\"BookValuePerShare\"]/df[\"adjusted_close\"]\n",
    "    df = df.dropna(subset=[\"book_to_price\"])\n",
    "    df[\"Rank\"]=df.groupby('Date')[\"book_to_price\"].rank(method='first')-1\n",
    "    return df"
   ]
  },
  {
   "cell_type": "code",
   "execution_count": 8,
   "id": "0f66a97a",
   "metadata": {},
   "outputs": [],
   "source": [
    "test = create_features(data_stock_prices,data_supplemental_financials)"
   ]
  },
  {
   "cell_type": "code",
   "execution_count": 9,
   "id": "169fd320",
   "metadata": {},
   "outputs": [
    {
     "data": {
      "text/plain": [
       "-0.09912429377872634"
      ]
     },
     "execution_count": 9,
     "metadata": {},
     "output_type": "execute_result"
    },
    {
     "data": {
      "image/png": "[encoded data removed]",
      "text/plain": [
       "<Figure size 432x288 with 1 Axes>"
      ]
     },
     "metadata": {
      "needs_background": "light"
     },
     "output_type": "display_data"
    }
   ],
   "source": [
    "calc_spread_return_sharpe(test[test[\"Date\"]>=\"2021-01-04\"])"
   ]
  }
 ],
 "metadata": {
  "kernelspec": {
   "display_name": "Python 3",
   "language": "python",
   "name": "python3"
  },
  "language_info": {
   "codemirror_mode": {
    "name": "ipython",
    "version": 3
   },
   "file_extension": ".py",
   "mimetype": "text/x-python",
   "name": "python",
   "nbconvert_exporter": "python",
   "pygments_lexer": "ipython3",
   "version": "3.8.8"
  }
 },
 "nbformat": 4,
 "nbformat_minor": 5
}
